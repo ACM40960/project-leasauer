{
 "cells": [
  {
   "cell_type": "markdown",
   "id": "7c182d59",
   "metadata": {},
   "source": [
    "# Projects in Math Modelling"
   ]
  },
  {
   "cell_type": "code",
   "execution_count": 11,
   "id": "a05cb129",
   "metadata": {},
   "outputs": [],
   "source": [
    "athletes=pd.concat=('Fred Kerley', 'Noah Lyles', 'Akani Simbine' , 'Andre De Grasse')"
   ]
  },
  {
   "cell_type": "markdown",
   "id": "49c78248",
   "metadata": {},
   "source": [
    "### NewsAPI.org"
   ]
  },
  {
   "cell_type": "code",
   "execution_count": 2,
   "id": "bc994bdd",
   "metadata": {},
   "outputs": [
    {
     "name": "stdout",
     "output_type": "stream",
     "text": [
      "Collecting newsapi-python\n",
      "  Downloading newsapi_python-0.2.7-py2.py3-none-any.whl (7.9 kB)\n",
      "Requirement already satisfied: requests<3.0.0 in c:\\users\\leaka\\anaconda3\\lib\\site-packages (from newsapi-python) (2.31.0)\n",
      "Requirement already satisfied: urllib3<3,>=1.21.1 in c:\\users\\leaka\\anaconda3\\lib\\site-packages (from requests<3.0.0->newsapi-python) (1.26.4)\n",
      "Requirement already satisfied: charset-normalizer<4,>=2 in c:\\users\\leaka\\anaconda3\\lib\\site-packages (from requests<3.0.0->newsapi-python) (3.3.0)\n",
      "Requirement already satisfied: certifi>=2017.4.17 in c:\\users\\leaka\\anaconda3\\lib\\site-packages (from requests<3.0.0->newsapi-python) (2023.7.22)\n",
      "Requirement already satisfied: idna<4,>=2.5 in c:\\users\\leaka\\anaconda3\\lib\\site-packages (from requests<3.0.0->newsapi-python) (2.10)\n",
      "Installing collected packages: newsapi-python\n",
      "Successfully installed newsapi-python-0.2.7\n",
      "Note: you may need to restart the kernel to use updated packages.\n"
     ]
    }
   ],
   "source": [
    "pip install newsapi-python"
   ]
  },
  {
   "cell_type": "code",
   "execution_count": 1,
   "id": "a2a44e8a",
   "metadata": {},
   "outputs": [],
   "source": [
    "from newsapi import NewsApiClient\n",
    "import pandas as pd\n",
    "\n",
    "# Init\n",
    "newsapi = NewsApiClient(api_key='2ffa9fd62f4e4dd8a0fc7697bd296069')\n",
    "\n",
    "# Dummy list to store all articles\n",
    "all_articles_list = []\n",
    "\n",
    "# Loop through each word and fetch articles\n",
    "for athlete in athletes:\n",
    "    for page in range(1, 6):  # Loop though pages\n",
    "        articles = newsapi.get_everything(q=athlete,\n",
    "                                          sort_by='relevancy',\n",
    "                                          page=page)\n",
    "        # Extract the articles and add a new column for the search term\n",
    "        if 'articles' in articles:\n",
    "            for article in articles['articles']:\n",
    "                article['athletes'] = athlete\n",
    "                all_articles_list.append(article)\n",
    "        else:\n",
    "            break  # Exit the loop if no more articles are returned\n",
    "\n",
    "# Convert the list of articles into a DataFrame\n",
    "df = pd.DataFrame(all_articles_list)\n",
    "\n"
   ]
  },
  {
   "cell_type": "markdown",
   "id": "38180943",
   "metadata": {},
   "source": [
    "### Google News API"
   ]
  },
  {
   "cell_type": "code",
   "execution_count": 9,
   "id": "cf3ac2e4",
   "metadata": {},
   "outputs": [],
   "source": [
    "import os\n",
    "import urllib\n",
    "import requests\n",
    "\n",
    "API_KEY = os.environ.get(\"API_KEY\")\n",
    "# set the api key in headers\n",
    "headers = {\"apikey\": API_KEY}\n",
    "\n",
    "# format the query\n",
    "# q: the search term\n",
    "query = {\"q\": \"Fred Kerley\"}\n",
    "\n",
    "# build to url to make request\n",
    "url = f\"https://api.serply.io/v1/news/\" + urllib.parse.urlencode(query)\n",
    "\n",
    "resp = requests.get(url, headers=headers)\n",
    "results = resp.json()"
   ]
  },
  {
   "cell_type": "code",
   "execution_count": 10,
   "id": "cb360a4c",
   "metadata": {},
   "outputs": [
    {
     "name": "stdout",
     "output_type": "stream",
     "text": [
      "Failed to fetch results for Fred Kerley: 401\n",
      "Failed to fetch results for Usain Bolt: 401\n",
      "Failed to fetch results for Elaine Thompson-Herah: 401\n"
     ]
    }
   ],
   "source": [
    "#401 =not found\n",
    "import os\n",
    "import urllib.parse\n",
    "import requests\n",
    "\n",
    "# Replace with your actual API key\n",
    "API_KEY = os.environ.get(\"API_KEY\")\n",
    "# Set the API key in headers\n",
    "headers = {\"apikey\": API_KEY}\n",
    "\n",
    "# Loop through each athlete and fetch news articles\n",
    "for athlete in athletes:\n",
    "    # Format the query\n",
    "    query = {\"q\": athlete}\n",
    "    \n",
    "    # Build the URL to make the request\n",
    "    url = f\"https://api.serply.io/v1/news?\" + urllib.parse.urlencode(query)\n",
    "    \n",
    "    # Make the request\n",
    "    resp = requests.get(url, headers=headers)\n",
    "    \n",
    "    # Check if the request was successful\n",
    "    if resp.status_code == 200:\n",
    "        results = resp.json()\n",
    "        \n",
    "        # Print the results\n",
    "        print(f\"Results for {athlete}:\")\n",
    "        for article in results.get('articles', []):\n",
    "            print(\"Title:\", article['title'])\n",
    "            print(\"Description:\", article['description'])\n",
    "            print(\"URL:\", article['url'])\n",
    "            print()\n",
    "    else:\n",
    "        print(f\"Failed to fetch results for {athlete}: {resp.status_code}\")"
   ]
  },
  {
   "cell_type": "code",
   "execution_count": null,
   "id": "62fd0dfe",
   "metadata": {},
   "outputs": [],
   "source": []
  },
  {
   "cell_type": "code",
   "execution_count": null,
   "id": "2352bcfe",
   "metadata": {},
   "outputs": [],
   "source": []
  }
 ],
 "metadata": {
  "kernelspec": {
   "display_name": "Python 3",
   "language": "python",
   "name": "python3"
  },
  "language_info": {
   "codemirror_mode": {
    "name": "ipython",
    "version": 3
   },
   "file_extension": ".py",
   "mimetype": "text/x-python",
   "name": "python",
   "nbconvert_exporter": "python",
   "pygments_lexer": "ipython3",
   "version": "3.8.8"
  }
 },
 "nbformat": 4,
 "nbformat_minor": 5
}
