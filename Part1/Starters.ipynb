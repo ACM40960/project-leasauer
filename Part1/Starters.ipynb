{
 "cells": [
  {
   "cell_type": "code",
   "execution_count": 1,
   "metadata": {},
   "outputs": [],
   "source": [
    "import requests\n",
    "from bs4 import BeautifulSoup\n",
    "import json\n",
    "\n",
    "import requests\n",
    "from bs4 import BeautifulSoup\n",
    "\n",
    "# Define the URL of the webpage\n",
    "url = 'https://worldathletics.org/results/olympic-games/2024/the-xxxiii-olympic-games-7153115/men/5000-metres/final/startlist?'\n",
    "\n",
    "# Send a GET request to the webpage\n",
    "response = requests.get(url)\n",
    "\n",
    "# Check if the request was successful\n",
    "if response.status_code == 200:\n",
    "    # Parse the HTML content of the webpage\n",
    "    soup = BeautifulSoup(response.content, 'html.parser')\n",
    "\n",
    "    # Find all tables on the page\n",
    "    tables = soup.find_all('table', class_='records-table clickable')\n",
    "\n",
    "    # Initialize a list to store names\n",
    "    all_names = []\n",
    "\n",
    "    # Process each table\n",
    "    for table in tables:\n",
    "        # Find all rows in the table body\n",
    "        rows = table.find('tbody').find_all('tr')\n",
    "\n",
    "        for row in rows:\n",
    "            # Find the 'ATHLETE' column\n",
    "            athlete_td = row.find('td', {'data-th': 'athlete'})\n",
    "            if athlete_td:\n",
    "                # Extract the text, including any text inside nested <span> tags\n",
    "                name = athlete_td.get_text(strip=True)\n",
    "                all_names.append(name)\n",
    "else:\n",
    "    print(f\"Failed to retrieve the webpage. Status code: {response.status_code}\")\n",
    "\n",
    "# Save the tweet details to a JSON file\n",
    "with open('starterlist_final.json', 'w') as json_file:\n",
    "    json.dump(all_names, json_file, indent=4)"
   ]
  }
 ],
 "metadata": {
  "kernelspec": {
   "display_name": "Python 3",
   "language": "python",
   "name": "python3"
  },
  "language_info": {
   "codemirror_mode": {
    "name": "ipython",
    "version": 3
   },
   "file_extension": ".py",
   "mimetype": "text/x-python",
   "name": "python",
   "nbconvert_exporter": "python",
   "pygments_lexer": "ipython3",
   "version": "3.11.5"
  }
 },
 "nbformat": 4,
 "nbformat_minor": 2
}
