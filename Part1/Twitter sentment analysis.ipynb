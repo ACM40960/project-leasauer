{
 "cells": [
  {
   "cell_type": "markdown",
   "id": "e249c612",
   "metadata": {},
   "source": [
    "# Projects in Math Modelling - Part 1 Sentiment Analysis"
   ]
  },
  {
   "cell_type": "markdown",
   "id": "89f20d2f-1d79-4e27-b7c5-2cb303be22d5",
   "metadata": {
    "jp-MarkdownHeadingCollapsed": true
   },
   "source": [
    "# Data Collection"
   ]
  },
  {
   "cell_type": "code",
   "execution_count": 34,
   "id": "1bc1de95-8ff7-41f2-901d-13cde0e628f7",
   "metadata": {},
   "outputs": [],
   "source": [
    "import pandas as pd\n",
    "import json\n",
    "import tweepy"
   ]
  },
  {
   "cell_type": "markdown",
   "id": "f6b05e2e-ddec-4643-b514-180206929ce5",
   "metadata": {},
   "source": [
    "## Fetch Twitter data"
   ]
  },
  {
   "cell_type": "markdown",
   "id": "efaef172",
   "metadata": {},
   "source": [
    "Citation: https://www.youtube.com/watch?v=ujId4ipkBio"
   ]
  },
  {
   "cell_type": "code",
   "execution_count": 30,
   "id": "ad6d0d34",
   "metadata": {},
   "outputs": [
    {
     "name": "stdout",
     "output_type": "stream",
     "text": [
      "['Yomif Kejelcha', 'Hagos Gebrhiwet', 'Berihu Aregawi', 'Telahun Haile Bekele', 'Jakob Ingebrigtsen', 'Jacob Kiplimo', 'Selemon Barega', 'Grant Fisher', 'Luis Grijalva', 'Joshua Cheptegei', 'Dominic Lokinyomo Lobalu', 'Biniam Mehary', 'Thierry Ndikumwenayo', 'Nicholas Kipkorir', 'Jacob Krop', 'Birhanu Balew', 'Samuel Tefera', 'Andreas Almgren', 'Kuma Girma', 'Addisu Yihune', 'Mohammed Ahmed', 'Jimmy Gressier', 'Cornelius Kemboi', 'Narve Gilje Nordås', 'Mohamed Ismail', 'Stewart Mcsweyn', 'Cole Hocker', 'Adriaan Wildschutt', 'Brian Fay', 'Morgan Mcdonald', 'Joe Klecker', 'Ishmael Rokitto Kipkurui', 'Yann Schrub', 'Mike Foppen', 'Sam Atkin', 'Abdihamid Nur', 'Jonas Raess', 'Egide Ntakarutimana', 'Isaac Kimeli', 'Adel Mechaal', 'Paul Chelimo', 'John Heymans', 'Oscar Chelimo', 'Olin Hacker', 'Henrik Ingebrigtsen', 'Benjamin Flanagan', 'Magnus Tuv Myhre', 'Emil Danielsson', 'Jack Rayner', 'Maximilian Thorwirth', 'Etienne Daguinos', 'Robin Hendrix', 'Hicham Akankam', 'Sam Parsons', 'Ahmed Muhumed', 'James West', 'Dawit Seare', 'Mohamed Abdilaahi', 'Hugo Hay', 'Matthew Ramsden', 'Ky Robinson', 'Darragh Mcelhinney', 'Thomas Fafard', 'Daniel Simiu Ebenyo', 'Cooper Teare', 'Ouassim Oumaiz', 'Yemaneberhan Crippa', 'Santiago Catrofe', 'Elzan Bibić', 'Parker Wolfe', 'Scott Beattie', 'Emmanuel Kipchirchir', 'Jack Rowe', 'Charles Hicks', 'Muktar Edris', 'Awet Nftalem Kibrab', 'Bob Liking', 'Sebastian Frey', 'Bastien Augusto', 'Kazuya Shiojiri', 'Sergio Jiménez', 'Per Svela', 'Célestin Ndikumana', 'Florian Bremm', 'Hyuga Endo', 'Sean Mcgorty', 'Charles Wheeler', 'Kibet Kandie', 'Mahadi Abdi Ali', 'Kieran Tuntivate', 'Davor Aaron Bienenfeld', 'Jackson Sharp', 'Gulveer Singh', 'Keita Satoh', 'Vladimir Nikitin', 'Abdessamad Oukhelfen', 'Romain Legendre', 'Valentin Gondouin', 'Morgan Le Guen', 'Merhawi Mebrahtu']\n"
     ]
    }
   ],
   "source": [
    "#Load top 100 5k athletes\n",
    "path=\"C:/Users/leaka/Documents/Uni/Master/_Projects in Math Modelling/Part2/code/\"\n",
    "athletes=pd.read_csv(path+'5000m_all_time_toplist.csv')\n",
    "\n",
    "#Take competitor column and format it into a string list to use later on as keywords\n",
    "competitor = athletes[\"Competitor\"].astype(str).tolist()\n",
    "competitor = [name.title() for name in competitor]"
   ]
  },
  {
   "cell_type": "code",
   "execution_count": 3,
   "id": "8622235f",
   "metadata": {},
   "outputs": [],
   "source": [
    "#Twitter API credentials\n",
    "with open(\"twitter_key.json\") as infile:\n",
    "    json_obj = json.load(infile)\n",
    "    token =json_obj[\"bearer_token\"]\n",
    "    consumerKey =json_obj[\"API_key\"]\n",
    "    consumerSecret =json_obj[\"API_key_secret\"]\n",
    "    accessToken  = json_obj[\"access_token\"]\n",
    "    accessTokenSecret  = json_obj[\"access_toke_secret\"]"
   ]
  },
  {
   "cell_type": "code",
   "execution_count": 36,
   "id": "8685f640",
   "metadata": {},
   "outputs": [],
   "source": [
    "#Create the authentification object\n",
    "authenticate = tweepy.OAuthHandler(consumerKey,consumerSecret)\n",
    "\n",
    "#Set the access token and access token secret\n",
    "authenticate.set_access_token(accessToken, accessTokenSecret)\n",
    "\n",
    "#Create API object while passing in the auth information\n",
    "api = tweepy.API(authenticate, wait_on_rate_limit= True)"
   ]
  },
  {
   "cell_type": "code",
   "execution_count": 39,
   "id": "95e99148",
   "metadata": {},
   "outputs": [
    {
     "ename": "Forbidden",
     "evalue": "403 Forbidden\n453 - You currently have access to a subset of Twitter API v2 endpoints and limited v1.1 endpoints (e.g. media post, oauth) only. If you need access to this endpoint, you may need a different access level. You can learn more here: https://developer.twitter.com/en/portal/product",
     "output_type": "error",
     "traceback": [
      "\u001b[1;31m---------------------------------------------------------------------------\u001b[0m",
      "\u001b[1;31mForbidden\u001b[0m                                 Traceback (most recent call last)",
      "Cell \u001b[1;32mIn[39], line 2\u001b[0m\n\u001b[0;32m      1\u001b[0m \u001b[38;5;66;03m#Extract tweets from the athlets Twitter account\u001b[39;00m\n\u001b[1;32m----> 2\u001b[0m posts \u001b[38;5;241m=\u001b[39m \u001b[43mapi\u001b[49m\u001b[38;5;241;43m.\u001b[39;49m\u001b[43muser_timeline\u001b[49m\u001b[43m(\u001b[49m\u001b[43mscreen_name\u001b[49m\u001b[43m \u001b[49m\u001b[38;5;241;43m=\u001b[39;49m\u001b[43m \u001b[49m\u001b[38;5;124;43m\"\u001b[39;49m\u001b[38;5;124;43mRom la stweet\u001b[39;49m\u001b[38;5;124;43m\"\u001b[39;49m\u001b[43m,\u001b[49m\u001b[43m \u001b[49m\u001b[43mcount\u001b[49m\u001b[43m \u001b[49m\u001b[38;5;241;43m=\u001b[39;49m\u001b[43m \u001b[49m\u001b[38;5;241;43m1\u001b[39;49m\u001b[43m,\u001b[49m\u001b[43m \u001b[49m\u001b[43mtweet_mode\u001b[49m\u001b[43m \u001b[49m\u001b[38;5;241;43m=\u001b[39;49m\u001b[43m \u001b[49m\u001b[38;5;124;43m\"\u001b[39;49m\u001b[38;5;124;43mextended\u001b[39;49m\u001b[38;5;124;43m\"\u001b[39;49m\u001b[43m)\u001b[49m\n\u001b[0;32m      4\u001b[0m \u001b[38;5;28mprint\u001b[39m(posts)\n",
      "File \u001b[1;32mc:\\Users\\leaka\\AppData\\Local\\Programs\\Python\\Python311\\Lib\\site-packages\\tweepy\\api.py:33\u001b[0m, in \u001b[0;36mpagination.<locals>.decorator.<locals>.wrapper\u001b[1;34m(*args, **kwargs)\u001b[0m\n\u001b[0;32m     31\u001b[0m \u001b[38;5;129m@functools\u001b[39m\u001b[38;5;241m.\u001b[39mwraps(method)\n\u001b[0;32m     32\u001b[0m \u001b[38;5;28;01mdef\u001b[39;00m \u001b[38;5;21mwrapper\u001b[39m(\u001b[38;5;241m*\u001b[39margs, \u001b[38;5;241m*\u001b[39m\u001b[38;5;241m*\u001b[39mkwargs):\n\u001b[1;32m---> 33\u001b[0m     \u001b[38;5;28;01mreturn\u001b[39;00m \u001b[43mmethod\u001b[49m\u001b[43m(\u001b[49m\u001b[38;5;241;43m*\u001b[39;49m\u001b[43margs\u001b[49m\u001b[43m,\u001b[49m\u001b[43m \u001b[49m\u001b[38;5;241;43m*\u001b[39;49m\u001b[38;5;241;43m*\u001b[39;49m\u001b[43mkwargs\u001b[49m\u001b[43m)\u001b[49m\n",
      "File \u001b[1;32mc:\\Users\\leaka\\AppData\\Local\\Programs\\Python\\Python311\\Lib\\site-packages\\tweepy\\api.py:46\u001b[0m, in \u001b[0;36mpayload.<locals>.decorator.<locals>.wrapper\u001b[1;34m(*args, **kwargs)\u001b[0m\n\u001b[0;32m     44\u001b[0m kwargs[\u001b[38;5;124m'\u001b[39m\u001b[38;5;124mpayload_list\u001b[39m\u001b[38;5;124m'\u001b[39m] \u001b[38;5;241m=\u001b[39m payload_list\n\u001b[0;32m     45\u001b[0m kwargs[\u001b[38;5;124m'\u001b[39m\u001b[38;5;124mpayload_type\u001b[39m\u001b[38;5;124m'\u001b[39m] \u001b[38;5;241m=\u001b[39m payload_type\n\u001b[1;32m---> 46\u001b[0m \u001b[38;5;28;01mreturn\u001b[39;00m \u001b[43mmethod\u001b[49m\u001b[43m(\u001b[49m\u001b[38;5;241;43m*\u001b[39;49m\u001b[43margs\u001b[49m\u001b[43m,\u001b[49m\u001b[43m \u001b[49m\u001b[38;5;241;43m*\u001b[39;49m\u001b[38;5;241;43m*\u001b[39;49m\u001b[43mkwargs\u001b[49m\u001b[43m)\u001b[49m\n",
      "File \u001b[1;32mc:\\Users\\leaka\\AppData\\Local\\Programs\\Python\\Python311\\Lib\\site-packages\\tweepy\\api.py:414\u001b[0m, in \u001b[0;36mAPI.user_timeline\u001b[1;34m(self, **kwargs)\u001b[0m\n\u001b[0;32m    373\u001b[0m \u001b[38;5;129m@pagination\u001b[39m(mode\u001b[38;5;241m=\u001b[39m\u001b[38;5;124m'\u001b[39m\u001b[38;5;124mid\u001b[39m\u001b[38;5;124m'\u001b[39m)\n\u001b[0;32m    374\u001b[0m \u001b[38;5;129m@payload\u001b[39m(\u001b[38;5;124m'\u001b[39m\u001b[38;5;124mstatus\u001b[39m\u001b[38;5;124m'\u001b[39m, \u001b[38;5;28mlist\u001b[39m\u001b[38;5;241m=\u001b[39m\u001b[38;5;28;01mTrue\u001b[39;00m)\n\u001b[0;32m    375\u001b[0m \u001b[38;5;28;01mdef\u001b[39;00m \u001b[38;5;21muser_timeline\u001b[39m(\u001b[38;5;28mself\u001b[39m, \u001b[38;5;241m*\u001b[39m\u001b[38;5;241m*\u001b[39mkwargs):\n\u001b[0;32m    376\u001b[0m \u001b[38;5;250m    \u001b[39m\u001b[38;5;124;03m\"\"\"user_timeline(*, user_id, screen_name, since_id, count, max_id, \\\u001b[39;00m\n\u001b[0;32m    377\u001b[0m \u001b[38;5;124;03m                     trim_user, exclude_replies, include_rts)\u001b[39;00m\n\u001b[0;32m    378\u001b[0m \n\u001b[1;32m   (...)\u001b[0m\n\u001b[0;32m    412\u001b[0m \u001b[38;5;124;03m    https://developer.twitter.com/en/docs/twitter-api/v1/tweets/timelines/api-reference/get-statuses-user_timeline\u001b[39;00m\n\u001b[0;32m    413\u001b[0m \u001b[38;5;124;03m    \"\"\"\u001b[39;00m\n\u001b[1;32m--> 414\u001b[0m     \u001b[38;5;28;01mreturn\u001b[39;00m \u001b[38;5;28;43mself\u001b[39;49m\u001b[38;5;241;43m.\u001b[39;49m\u001b[43mrequest\u001b[49m\u001b[43m(\u001b[49m\n\u001b[0;32m    415\u001b[0m \u001b[43m        \u001b[49m\u001b[38;5;124;43m'\u001b[39;49m\u001b[38;5;124;43mGET\u001b[39;49m\u001b[38;5;124;43m'\u001b[39;49m\u001b[43m,\u001b[49m\u001b[43m \u001b[49m\u001b[38;5;124;43m'\u001b[39;49m\u001b[38;5;124;43mstatuses/user_timeline\u001b[39;49m\u001b[38;5;124;43m'\u001b[39;49m\u001b[43m,\u001b[49m\u001b[43m \u001b[49m\u001b[43mendpoint_parameters\u001b[49m\u001b[38;5;241;43m=\u001b[39;49m\u001b[43m(\u001b[49m\n\u001b[0;32m    416\u001b[0m \u001b[43m            \u001b[49m\u001b[38;5;124;43m'\u001b[39;49m\u001b[38;5;124;43muser_id\u001b[39;49m\u001b[38;5;124;43m'\u001b[39;49m\u001b[43m,\u001b[49m\u001b[43m \u001b[49m\u001b[38;5;124;43m'\u001b[39;49m\u001b[38;5;124;43mscreen_name\u001b[39;49m\u001b[38;5;124;43m'\u001b[39;49m\u001b[43m,\u001b[49m\u001b[43m \u001b[49m\u001b[38;5;124;43m'\u001b[39;49m\u001b[38;5;124;43msince_id\u001b[39;49m\u001b[38;5;124;43m'\u001b[39;49m\u001b[43m,\u001b[49m\u001b[43m \u001b[49m\u001b[38;5;124;43m'\u001b[39;49m\u001b[38;5;124;43mcount\u001b[39;49m\u001b[38;5;124;43m'\u001b[39;49m\u001b[43m,\u001b[49m\u001b[43m \u001b[49m\u001b[38;5;124;43m'\u001b[39;49m\u001b[38;5;124;43mmax_id\u001b[39;49m\u001b[38;5;124;43m'\u001b[39;49m\u001b[43m,\u001b[49m\n\u001b[0;32m    417\u001b[0m \u001b[43m            \u001b[49m\u001b[38;5;124;43m'\u001b[39;49m\u001b[38;5;124;43mtrim_user\u001b[39;49m\u001b[38;5;124;43m'\u001b[39;49m\u001b[43m,\u001b[49m\u001b[43m \u001b[49m\u001b[38;5;124;43m'\u001b[39;49m\u001b[38;5;124;43mexclude_replies\u001b[39;49m\u001b[38;5;124;43m'\u001b[39;49m\u001b[43m,\u001b[49m\u001b[43m \u001b[49m\u001b[38;5;124;43m'\u001b[39;49m\u001b[38;5;124;43minclude_rts\u001b[39;49m\u001b[38;5;124;43m'\u001b[39;49m\n\u001b[0;32m    418\u001b[0m \u001b[43m        \u001b[49m\u001b[43m)\u001b[49m\u001b[43m,\u001b[49m\u001b[43m \u001b[49m\u001b[38;5;241;43m*\u001b[39;49m\u001b[38;5;241;43m*\u001b[39;49m\u001b[43mkwargs\u001b[49m\n\u001b[0;32m    419\u001b[0m \u001b[43m    \u001b[49m\u001b[43m)\u001b[49m\n",
      "File \u001b[1;32mc:\\Users\\leaka\\AppData\\Local\\Programs\\Python\\Python311\\Lib\\site-packages\\tweepy\\api.py:271\u001b[0m, in \u001b[0;36mAPI.request\u001b[1;34m(self, method, endpoint, endpoint_parameters, params, headers, json_payload, parser, payload_list, payload_type, post_data, files, require_auth, return_cursors, upload_api, use_cache, **kwargs)\u001b[0m\n\u001b[0;32m    269\u001b[0m     \u001b[38;5;28;01mraise\u001b[39;00m Unauthorized(resp)\n\u001b[0;32m    270\u001b[0m \u001b[38;5;28;01mif\u001b[39;00m resp\u001b[38;5;241m.\u001b[39mstatus_code \u001b[38;5;241m==\u001b[39m \u001b[38;5;241m403\u001b[39m:\n\u001b[1;32m--> 271\u001b[0m     \u001b[38;5;28;01mraise\u001b[39;00m Forbidden(resp)\n\u001b[0;32m    272\u001b[0m \u001b[38;5;28;01mif\u001b[39;00m resp\u001b[38;5;241m.\u001b[39mstatus_code \u001b[38;5;241m==\u001b[39m \u001b[38;5;241m404\u001b[39m:\n\u001b[0;32m    273\u001b[0m     \u001b[38;5;28;01mraise\u001b[39;00m NotFound(resp)\n",
      "\u001b[1;31mForbidden\u001b[0m: 403 Forbidden\n453 - You currently have access to a subset of Twitter API v2 endpoints and limited v1.1 endpoints (e.g. media post, oauth) only. If you need access to this endpoint, you may need a different access level. You can learn more here: https://developer.twitter.com/en/portal/product"
     ]
    }
   ],
   "source": [
    "#Set-up Twitter search\n",
    "#search_query = ' OR '.join([f\"'{athlete}'\" for athlete in competitor]) + ' -filter:retweets -filter:replies -filter:links'\n",
    "no_of_tweets = 100\n",
    "\n",
    "try:\n",
    "    #Number of tweets we want to retrieve\n",
    "    \n",
    "\n",
    "    #Pulling attributes\n",
    "    #attributes_container = [[tweet.user.name, tweet.created_at, tweet.favorite_count, tweet.source, tweet.full_text] for tweet in tweets] \n",
    "\n",
    "    #Data Frame columns \n",
    "    #columns = [\"User\",\"Date Created\", \"Number of Likes\", \"Source of Tweets\", \"Tweet\"]\n",
    "\n",
    "    #Create Data Frame \n",
    "    #tweets_df = pd.DataFrame(attributes_container, columns=columns)\n",
    "\n",
    "#Error Handling\n",
    "except tweepy.errors.TooManyRequests:\n",
    "    print('Rate limit exceeded. Sleeping for 15 minutes.')\n",
    "    time.sleep(15 * 60)\n",
    "except tweepy.errors.TweepyException as e:\n",
    "    print(f'Tweepy error: {e}')\n",
    "except BaseException as e:\n",
    "    print('Status Failed On',str(e))\n",
    "\n",
    "#Save database to json object\n",
    "tweets_df.to_json('tweets.json', orient='records', lines=True)"
   ]
  }
 ],
 "metadata": {
  "kernelspec": {
   "display_name": "Python 3",
   "language": "python",
   "name": "python3"
  },
  "language_info": {
   "codemirror_mode": {
    "name": "ipython",
    "version": 3
   },
   "file_extension": ".py",
   "mimetype": "text/x-python",
   "name": "python",
   "nbconvert_exporter": "python",
   "pygments_lexer": "ipython3",
   "version": "3.11.5"
  }
 },
 "nbformat": 4,
 "nbformat_minor": 5
}
