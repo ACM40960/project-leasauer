{
 "cells": [
  {
   "cell_type": "markdown",
   "id": "e249c612",
   "metadata": {},
   "source": [
    "# Projects in Math Modelling - Part 1 Sentiment Analysis"
   ]
  },
  {
   "cell_type": "markdown",
   "id": "89f20d2f-1d79-4e27-b7c5-2cb303be22d5",
   "metadata": {
    "jp-MarkdownHeadingCollapsed": true
   },
   "source": [
    "# Data Collection"
   ]
  },
  {
   "cell_type": "code",
   "execution_count": 1,
   "id": "1bc1de95-8ff7-41f2-901d-13cde0e628f7",
   "metadata": {},
   "outputs": [],
   "source": [
    "import pandas as pd\n",
    "import json\n",
    "import os"
   ]
  },
  {
   "cell_type": "markdown",
   "id": "f6b05e2e-ddec-4643-b514-180206929ce5",
   "metadata": {},
   "source": [
    "## Fetch Twitter data"
   ]
  },
  {
   "cell_type": "markdown",
   "id": "259ba61a",
   "metadata": {},
   "source": [
    "Yomif KEJELCHA, Hagos GEBRHIWET, Berihu AREGAWI, Telahun Haile BEKELE, Jakob INGEBRIGTSEN, Jacob KIPLIMO, Selemon BAREGA,Grant FISHER,Luis GRIJALVA,Joshua CHEPTEGEI"
   ]
  },
  {
   "cell_type": "code",
   "execution_count": 5,
   "id": "ad6d0d34",
   "metadata": {},
   "outputs": [],
   "source": [
    "athletes=pd.concat=('Fred Kerley', 'Noah Lyles', 'Akani Simbine' , 'Andre De Grasse')"
   ]
  },
  {
   "cell_type": "code",
   "execution_count": 3,
   "id": "33dcece8",
   "metadata": {},
   "outputs": [],
   "source": [
    "#pip install tweepy\n",
    "import json\n",
    "import tweepy"
   ]
  },
  {
   "cell_type": "code",
   "execution_count": null,
   "id": "8622235f",
   "metadata": {},
   "outputs": [],
   "source": [
    "with open(\"twitter_key.json\") as infile:\n",
    "    json_obj = json.load(infile)\n",
    "    token =json_obj[\"bearer_token\"]\n",
    "    client = tweepy.Client(bearer_token=token)"
   ]
  }
 ],
 "metadata": {
  "kernelspec": {
   "display_name": "Python 3",
   "language": "python",
   "name": "python3"
  },
  "language_info": {
   "codemirror_mode": {
    "name": "ipython",
    "version": 3
   },
   "file_extension": ".py",
   "mimetype": "text/x-python",
   "name": "python",
   "nbconvert_exporter": "python",
   "pygments_lexer": "ipython3",
   "version": "3.11.5"
  }
 },
 "nbformat": 4,
 "nbformat_minor": 5
}
