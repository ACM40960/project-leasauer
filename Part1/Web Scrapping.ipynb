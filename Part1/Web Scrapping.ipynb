{
 "cells": [
  {
   "cell_type": "markdown",
   "id": "e249c612",
   "metadata": {},
   "source": [
    "# Projects in Math Modelling - Part 1 Sentiment Analysis"
   ]
  },
  {
   "cell_type": "markdown",
   "id": "d9bd5c66",
   "metadata": {},
   "source": [
    "# Web Scrapping"
   ]
  },
  {
   "cell_type": "markdown",
   "id": "00a729a7",
   "metadata": {},
   "source": [
    "https://pypi.org/project/twikit/\n",
    "https://blog.apify.com/how-to-scrape-tweets-and-more-on-twitter-59330e6fb522/"
   ]
  },
  {
   "cell_type": "code",
   "execution_count": 3,
   "id": "3d58e188",
   "metadata": {},
   "outputs": [],
   "source": [
    "from twikit import Client ##for web scraping\n",
    "import json\n",
    "import pandas as pd\n",
    "import time"
   ]
  },
  {
   "cell_type": "code",
   "execution_count": 4,
   "id": "2e1eaf2e",
   "metadata": {},
   "outputs": [],
   "source": [
    "#Load top 100 5k athletes\n",
    "path=\"C:/Users/leaka/Documents/Uni/Master/_Projects in Math Modelling/Part2/code/\"\n",
    "athletes=pd.read_csv(path+'5000m_all_time_toplist.csv')\n",
    "\n",
    "#Take competitor column and format it into a string list to use later on as keywords\n",
    "competitor = athletes[\"Competitor\"].astype(str).tolist()\n",
    "competitor = [name.title() for name in competitor]"
   ]
  },
  {
   "cell_type": "code",
   "execution_count": 5,
   "id": "069c6901",
   "metadata": {},
   "outputs": [],
   "source": [
    "client = Client('en-IE')"
   ]
  },
  {
   "cell_type": "code",
   "execution_count": 6,
   "id": "f1118864",
   "metadata": {},
   "outputs": [],
   "source": [
    "#Twitter login data\n",
    "with open(\"twitter_login.json\") as infile:\n",
    "    json_obj = json.load(infile)\n",
    "    username =json_obj[\"E-Mail\"]\n",
    "    password =json_obj[\"Password\"]"
   ]
  },
  {
   "cell_type": "code",
   "execution_count": 7,
   "id": "0101e72c",
   "metadata": {},
   "outputs": [],
   "source": [
    "client.login(auth_info_1=username, password=password)\n",
    "client.save_cookies('cookies.json')\n",
    "client.load_cookies(path='cookies.json')"
   ]
  },
  {
   "cell_type": "code",
   "execution_count": 8,
   "id": "1b873178",
   "metadata": {},
   "outputs": [],
   "source": [
    "# Function to handle rate limit\n",
    "def handle_rate_limit():\n",
    "    print(\"Rate limit hit. Sleeping for 15 minutes.\")\n",
    "    time.sleep(15 * 60)  # Sleep for 15 minutes"
   ]
  },
  {
   "cell_type": "code",
   "execution_count": 9,
   "id": "de952419",
   "metadata": {},
   "outputs": [
    {
     "name": "stdout",
     "output_type": "stream",
     "text": [
      "Rate limit hit. Sleeping for 15 minutes.\n",
      "An error occurred: status: 401, message: \"{\"errors\":[{\"message\":\"Could not authenticate you\",\"code\":32}]}\n",
      "\"\n",
      "An error occurred: status: 401, message: \"{\"errors\":[{\"message\":\"Could not authenticate you\",\"code\":32}]}\n",
      "\"\n",
      "An error occurred: status: 401, message: \"{\"errors\":[{\"message\":\"Could not authenticate you\",\"code\":32}]}\n",
      "\"\n",
      "An error occurred: status: 401, message: \"{\"errors\":[{\"message\":\"Could not authenticate you\",\"code\":32}]}\n",
      "\"\n",
      "An error occurred: status: 401, message: \"{\"errors\":[{\"message\":\"Could not authenticate you\",\"code\":32}]}\n",
      "\"\n",
      "An error occurred: status: 401, message: \"{\"errors\":[{\"message\":\"Could not authenticate you\",\"code\":32}]}\n",
      "\"\n",
      "An error occurred: status: 401, message: \"{\"errors\":[{\"message\":\"Could not authenticate you\",\"code\":32}]}\n",
      "\"\n",
      "An error occurred: status: 401, message: \"{\"errors\":[{\"message\":\"Could not authenticate you\",\"code\":32}]}\n",
      "\"\n",
      "An error occurred: status: 401, message: \"{\"errors\":[{\"message\":\"Could not authenticate you\",\"code\":32}]}\n",
      "\"\n",
      "An error occurred: status: 401, message: \"{\"errors\":[{\"message\":\"Could not authenticate you\",\"code\":32}]}\n",
      "\"\n",
      "An error occurred: status: 401, message: \"{\"errors\":[{\"message\":\"Could not authenticate you\",\"code\":32}]}\n",
      "\"\n",
      "An error occurred: status: 401, message: \"{\"errors\":[{\"message\":\"Could not authenticate you\",\"code\":32}]}\n",
      "\"\n",
      "An error occurred: status: 401, message: \"{\"errors\":[{\"message\":\"Could not authenticate you\",\"code\":32}]}\n",
      "\"\n",
      "An error occurred: status: 401, message: \"{\"errors\":[{\"message\":\"Could not authenticate you\",\"code\":32}]}\n",
      "\"\n",
      "An error occurred: status: 401, message: \"{\"errors\":[{\"message\":\"Could not authenticate you\",\"code\":32}]}\n",
      "\"\n",
      "An error occurred: status: 401, message: \"{\"errors\":[{\"message\":\"Could not authenticate you\",\"code\":32}]}\n",
      "\"\n",
      "An error occurred: status: 401, message: \"{\"errors\":[{\"message\":\"Could not authenticate you\",\"code\":32}]}\n",
      "\"\n",
      "An error occurred: status: 401, message: \"{\"errors\":[{\"message\":\"Could not authenticate you\",\"code\":32}]}\n",
      "\"\n",
      "An error occurred: status: 401, message: \"{\"errors\":[{\"message\":\"Could not authenticate you\",\"code\":32}]}\n",
      "\"\n",
      "An error occurred: status: 401, message: \"{\"errors\":[{\"message\":\"Could not authenticate you\",\"code\":32}]}\n",
      "\"\n",
      "An error occurred: status: 401, message: \"{\"errors\":[{\"message\":\"Could not authenticate you\",\"code\":32}]}\n",
      "\"\n",
      "An error occurred: status: 401, message: \"{\"errors\":[{\"message\":\"Could not authenticate you\",\"code\":32}]}\n",
      "\"\n",
      "An error occurred: status: 401, message: \"{\"errors\":[{\"message\":\"Could not authenticate you\",\"code\":32}]}\n",
      "\"\n",
      "An error occurred: status: 401, message: \"{\"errors\":[{\"message\":\"Could not authenticate you\",\"code\":32}]}\n",
      "\"\n",
      "An error occurred: status: 401, message: \"{\"errors\":[{\"message\":\"Could not authenticate you\",\"code\":32}]}\n",
      "\"\n",
      "An error occurred: status: 401, message: \"{\"errors\":[{\"message\":\"Could not authenticate you\",\"code\":32}]}\n",
      "\"\n",
      "An error occurred: status: 401, message: \"{\"errors\":[{\"message\":\"Could not authenticate you\",\"code\":32}]}\n",
      "\"\n",
      "An error occurred: status: 401, message: \"{\"errors\":[{\"message\":\"Could not authenticate you\",\"code\":32}]}\n",
      "\"\n",
      "An error occurred: status: 401, message: \"{\"errors\":[{\"message\":\"Could not authenticate you\",\"code\":32}]}\n",
      "\"\n",
      "An error occurred: status: 401, message: \"{\"errors\":[{\"message\":\"Could not authenticate you\",\"code\":32}]}\n",
      "\"\n",
      "An error occurred: status: 401, message: \"{\"errors\":[{\"message\":\"Could not authenticate you\",\"code\":32}]}\n",
      "\"\n",
      "An error occurred: status: 401, message: \"{\"errors\":[{\"message\":\"Could not authenticate you\",\"code\":32}]}\n",
      "\"\n",
      "An error occurred: status: 401, message: \"{\"errors\":[{\"message\":\"Could not authenticate you\",\"code\":32}]}\n",
      "\"\n",
      "An error occurred: status: 401, message: \"{\"errors\":[{\"message\":\"Could not authenticate you\",\"code\":32}]}\n",
      "\"\n",
      "An error occurred: status: 401, message: \"{\"errors\":[{\"message\":\"Could not authenticate you\",\"code\":32}]}\n",
      "\"\n",
      "An error occurred: status: 401, message: \"{\"errors\":[{\"message\":\"Could not authenticate you\",\"code\":32}]}\n",
      "\"\n",
      "An error occurred: status: 401, message: \"{\"errors\":[{\"message\":\"Could not authenticate you\",\"code\":32}]}\n",
      "\"\n",
      "An error occurred: status: 401, message: \"{\"errors\":[{\"message\":\"Could not authenticate you\",\"code\":32}]}\n",
      "\"\n",
      "An error occurred: status: 401, message: \"{\"errors\":[{\"message\":\"Could not authenticate you\",\"code\":32}]}\n",
      "\"\n",
      "An error occurred: status: 401, message: \"{\"errors\":[{\"message\":\"Could not authenticate you\",\"code\":32}]}\n",
      "\"\n",
      "An error occurred: status: 401, message: \"{\"errors\":[{\"message\":\"Could not authenticate you\",\"code\":32}]}\n",
      "\"\n",
      "An error occurred: status: 401, message: \"{\"errors\":[{\"message\":\"Could not authenticate you\",\"code\":32}]}\n",
      "\"\n",
      "An error occurred: status: 401, message: \"{\"errors\":[{\"message\":\"Could not authenticate you\",\"code\":32}]}\n",
      "\"\n",
      "An error occurred: status: 401, message: \"{\"errors\":[{\"message\":\"Could not authenticate you\",\"code\":32}]}\n",
      "\"\n",
      "An error occurred: status: 401, message: \"{\"errors\":[{\"message\":\"Could not authenticate you\",\"code\":32}]}\n",
      "\"\n",
      "An error occurred: status: 401, message: \"{\"errors\":[{\"message\":\"Could not authenticate you\",\"code\":32}]}\n",
      "\"\n",
      "An error occurred: status: 401, message: \"{\"errors\":[{\"message\":\"Could not authenticate you\",\"code\":32}]}\n",
      "\"\n",
      "An error occurred: status: 401, message: \"{\"errors\":[{\"message\":\"Could not authenticate you\",\"code\":32}]}\n",
      "\"\n",
      "An error occurred: status: 401, message: \"{\"errors\":[{\"message\":\"Could not authenticate you\",\"code\":32}]}\n",
      "\"\n",
      "An error occurred: status: 401, message: \"{\"errors\":[{\"message\":\"Could not authenticate you\",\"code\":32}]}\n",
      "\"\n"
     ]
    }
   ],
   "source": [
    "tweets_to_store = []\n",
    "for name in competitor:\n",
    "    query = f'\"{name}\"'\n",
    "    \n",
    "    while True:\n",
    "        try:\n",
    "            tweets = client.search_tweet(query, 'Latest')\n",
    "            break  # Exit the loop if request was successful\n",
    "        except Exception as e:\n",
    "            if \"Rate limit exceeded\" in str(e):\n",
    "                handle_rate_limit()\n",
    "            else:\n",
    "                print(f\"An error occurred: {e}\")\n",
    "                break\n",
    "\n",
    "\n",
    "    if tweets is None:\n",
    "        print(f\"No tweets found for athlete: {name}\")\n",
    "        continue\n",
    "    \n",
    "    for tweet in tweets:\n",
    "        tweets_to_store.append({\n",
    "            'created_at': tweet.created_at,\n",
    "            'username': tweet.user.name,\n",
    "            'Text': tweet.text,\n",
    "            'Competitor': name\n",
    "        })\n",
    "    \n",
    "    # Sleep for a short interval to avoid hitting the rate limit\n",
    "    time.sleep(5)"
   ]
  },
  {
   "cell_type": "code",
   "execution_count": 10,
   "id": "1529a087",
   "metadata": {},
   "outputs": [],
   "source": [
    "# Save the tweet details to a JSON file\n",
    "with open('tweets_22072024_2.json', 'w') as json_file:\n",
    "    json.dump(tweets_to_store, json_file, indent=4)\n",
    "\n",
    "\n"
   ]
  }
 ],
 "metadata": {
  "kernelspec": {
   "display_name": "Python 3",
   "language": "python",
   "name": "python3"
  },
  "language_info": {
   "codemirror_mode": {
    "name": "ipython",
    "version": 3
   },
   "file_extension": ".py",
   "mimetype": "text/x-python",
   "name": "python",
   "nbconvert_exporter": "python",
   "pygments_lexer": "ipython3",
   "version": "3.11.5"
  }
 },
 "nbformat": 4,
 "nbformat_minor": 5
}
