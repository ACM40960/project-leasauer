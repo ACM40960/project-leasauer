{
 "cells": [
  {
   "cell_type": "markdown",
   "id": "e249c612",
   "metadata": {},
   "source": [
    "# Projects in Math Modelling - Part 1 Sentiment Analysis"
   ]
  },
  {
   "cell_type": "markdown",
   "id": "d9bd5c66",
   "metadata": {},
   "source": [
    "# Web Scrapping"
   ]
  },
  {
   "cell_type": "markdown",
   "id": "00a729a7",
   "metadata": {},
   "source": [
    "https://pypi.org/project/twikit/\n",
    "https://blog.apify.com/how-to-scrape-tweets-and-more-on-twitter-59330e6fb522/"
   ]
  },
  {
   "cell_type": "code",
   "execution_count": 1,
   "id": "3d58e188",
   "metadata": {},
   "outputs": [],
   "source": [
    "from twikit import Client ##for web scraping\n",
    "import json\n",
    "import pandas as pd\n",
    "import time"
   ]
  },
  {
   "cell_type": "code",
   "execution_count": 4,
   "id": "2e1eaf2e",
   "metadata": {},
   "outputs": [],
   "source": [
    "#Load top 100 5k athletes\n",
    "#path=\"C:/Users/leaka/Documents/Uni/Master/_Projects in Math Modelling/Part2/code/\"\n",
    "#athletes=pd.read_csv(path+'5000m_all_time_toplist.csv')\n",
    "with open('starterlist.json', 'r') as json_file:\n",
    "    athletes = json.load(json_file)\n",
    "\n",
    "#Take competitor column and format it into a string list to use later on as keywords\n",
    "#competitor = athletes[\"Competitor\"].astype(str).tolist()\n",
    "competitor = [name.title() for name in athletes]"
   ]
  },
  {
   "cell_type": "code",
   "execution_count": 5,
   "id": "069c6901",
   "metadata": {},
   "outputs": [],
   "source": [
    "client = Client('en-IE')"
   ]
  },
  {
   "cell_type": "code",
   "execution_count": 6,
   "id": "f1118864",
   "metadata": {},
   "outputs": [],
   "source": [
    "#Twitter login data\n",
    "with open(\"twitter_login.json\") as infile:\n",
    "    json_obj = json.load(infile)\n",
    "    username =json_obj[\"E-Mail4\"]\n",
    "    password =json_obj[\"Password4\"]"
   ]
  },
  {
   "cell_type": "code",
   "execution_count": 8,
   "id": "0101e72c",
   "metadata": {},
   "outputs": [
    {
     "ename": "BadRequest",
     "evalue": "status: 400, message: \"{\"errors\":[{\"code\":366,\"message\":\"flow name LoginFlow is currently not accessible\"}]}\"",
     "output_type": "error",
     "traceback": [
      "\u001b[1;31m---------------------------------------------------------------------------\u001b[0m",
      "\u001b[1;31mBadRequest\u001b[0m                                Traceback (most recent call last)",
      "Cell \u001b[1;32mIn[8], line 1\u001b[0m\n\u001b[1;32m----> 1\u001b[0m \u001b[43mclient\u001b[49m\u001b[38;5;241;43m.\u001b[39;49m\u001b[43mlogin\u001b[49m\u001b[43m(\u001b[49m\u001b[43mauth_info_1\u001b[49m\u001b[38;5;241;43m=\u001b[39;49m\u001b[43musername\u001b[49m\u001b[43m,\u001b[49m\u001b[43m \u001b[49m\u001b[43mpassword\u001b[49m\u001b[38;5;241;43m=\u001b[39;49m\u001b[43mpassword\u001b[49m\u001b[43m)\u001b[49m\n\u001b[0;32m      2\u001b[0m client\u001b[38;5;241m.\u001b[39msave_cookies(\u001b[38;5;124m'\u001b[39m\u001b[38;5;124mcookies.json\u001b[39m\u001b[38;5;124m'\u001b[39m)\n\u001b[0;32m      3\u001b[0m client\u001b[38;5;241m.\u001b[39mload_cookies(path\u001b[38;5;241m=\u001b[39m\u001b[38;5;124m'\u001b[39m\u001b[38;5;124mcookies.json\u001b[39m\u001b[38;5;124m'\u001b[39m)\n",
      "File \u001b[1;32mc:\\Users\\leaka\\AppData\\Local\\Programs\\Python\\Python311\\Lib\\site-packages\\twikit\\client.py:408\u001b[0m, in \u001b[0;36mClient.login\u001b[1;34m(self, auth_info_1, auth_info_2, password, totp_secret)\u001b[0m\n\u001b[0;32m    392\u001b[0m     flow\u001b[38;5;241m.\u001b[39mexecute_task({\n\u001b[0;32m    393\u001b[0m         \u001b[38;5;124m'\u001b[39m\u001b[38;5;124msubtask_id\u001b[39m\u001b[38;5;124m'\u001b[39m: \u001b[38;5;124m'\u001b[39m\u001b[38;5;124mLoginEnterAlternateIdentifierSubtask\u001b[39m\u001b[38;5;124m'\u001b[39m,\n\u001b[0;32m    394\u001b[0m         \u001b[38;5;124m'\u001b[39m\u001b[38;5;124menter_text\u001b[39m\u001b[38;5;124m'\u001b[39m: {\n\u001b[1;32m   (...)\u001b[0m\n\u001b[0;32m    397\u001b[0m         }\n\u001b[0;32m    398\u001b[0m     })\n\u001b[0;32m    400\u001b[0m flow\u001b[38;5;241m.\u001b[39mexecute_task({\n\u001b[0;32m    401\u001b[0m     \u001b[38;5;124m'\u001b[39m\u001b[38;5;124msubtask_id\u001b[39m\u001b[38;5;124m'\u001b[39m: \u001b[38;5;124m'\u001b[39m\u001b[38;5;124mLoginEnterPassword\u001b[39m\u001b[38;5;124m'\u001b[39m,\n\u001b[0;32m    402\u001b[0m     \u001b[38;5;124m'\u001b[39m\u001b[38;5;124menter_password\u001b[39m\u001b[38;5;124m'\u001b[39m: {\n\u001b[1;32m   (...)\u001b[0m\n\u001b[0;32m    405\u001b[0m     }\n\u001b[0;32m    406\u001b[0m })\n\u001b[1;32m--> 408\u001b[0m \u001b[43mflow\u001b[49m\u001b[38;5;241;43m.\u001b[39;49m\u001b[43mexecute_task\u001b[49m\u001b[43m(\u001b[49m\u001b[43m{\u001b[49m\n\u001b[0;32m    409\u001b[0m \u001b[43m    \u001b[49m\u001b[38;5;124;43m'\u001b[39;49m\u001b[38;5;124;43msubtask_id\u001b[39;49m\u001b[38;5;124;43m'\u001b[39;49m\u001b[43m:\u001b[49m\u001b[43m \u001b[49m\u001b[38;5;124;43m'\u001b[39;49m\u001b[38;5;124;43mAccountDuplicationCheck\u001b[39;49m\u001b[38;5;124;43m'\u001b[39;49m\u001b[43m,\u001b[49m\n\u001b[0;32m    410\u001b[0m \u001b[43m    \u001b[49m\u001b[38;5;124;43m'\u001b[39;49m\u001b[38;5;124;43mcheck_logged_in_account\u001b[39;49m\u001b[38;5;124;43m'\u001b[39;49m\u001b[43m:\u001b[49m\u001b[43m \u001b[49m\u001b[43m{\u001b[49m\n\u001b[0;32m    411\u001b[0m \u001b[43m        \u001b[49m\u001b[38;5;124;43m'\u001b[39;49m\u001b[38;5;124;43mlink\u001b[39;49m\u001b[38;5;124;43m'\u001b[39;49m\u001b[43m:\u001b[49m\u001b[43m \u001b[49m\u001b[38;5;124;43m'\u001b[39;49m\u001b[38;5;124;43mAccountDuplicationCheck_false\u001b[39;49m\u001b[38;5;124;43m'\u001b[39;49m\n\u001b[0;32m    412\u001b[0m \u001b[43m    \u001b[49m\u001b[43m}\u001b[49m\n\u001b[0;32m    413\u001b[0m \u001b[43m\u001b[49m\u001b[43m}\u001b[49m\u001b[43m)\u001b[49m\n\u001b[0;32m    415\u001b[0m \u001b[38;5;28;01mif\u001b[39;00m \u001b[38;5;129;01mnot\u001b[39;00m flow\u001b[38;5;241m.\u001b[39mresponse[\u001b[38;5;124m'\u001b[39m\u001b[38;5;124msubtasks\u001b[39m\u001b[38;5;124m'\u001b[39m]:\n\u001b[0;32m    416\u001b[0m     \u001b[38;5;28;01mreturn\u001b[39;00m\n",
      "File \u001b[1;32mc:\\Users\\leaka\\AppData\\Local\\Programs\\Python\\Python311\\Lib\\site-packages\\twikit\\utils.py:399\u001b[0m, in \u001b[0;36mFlow.execute_task\u001b[1;34m(self, *subtask_inputs, **kwargs)\u001b[0m\n\u001b[0;32m    396\u001b[0m \u001b[38;5;28;01mif\u001b[39;00m subtask_inputs \u001b[38;5;129;01mis\u001b[39;00m \u001b[38;5;129;01mnot\u001b[39;00m \u001b[38;5;28;01mNone\u001b[39;00m:\n\u001b[0;32m    397\u001b[0m     data[\u001b[38;5;124m'\u001b[39m\u001b[38;5;124msubtask_inputs\u001b[39m\u001b[38;5;124m'\u001b[39m] \u001b[38;5;241m=\u001b[39m \u001b[38;5;28mlist\u001b[39m(subtask_inputs)\n\u001b[1;32m--> 399\u001b[0m response, _ \u001b[38;5;241m=\u001b[39m \u001b[38;5;28;43mself\u001b[39;49m\u001b[38;5;241;43m.\u001b[39;49m\u001b[43m_client\u001b[49m\u001b[38;5;241;43m.\u001b[39;49m\u001b[43mpost\u001b[49m\u001b[43m(\u001b[49m\n\u001b[0;32m    400\u001b[0m \u001b[43m    \u001b[49m\u001b[38;5;28;43mself\u001b[39;49m\u001b[38;5;241;43m.\u001b[39;49m\u001b[43mendpoint\u001b[49m\u001b[43m,\u001b[49m\n\u001b[0;32m    401\u001b[0m \u001b[43m    \u001b[49m\u001b[43mdata\u001b[49m\u001b[38;5;241;43m=\u001b[39;49m\u001b[43mjson\u001b[49m\u001b[38;5;241;43m.\u001b[39;49m\u001b[43mdumps\u001b[49m\u001b[43m(\u001b[49m\u001b[43mdata\u001b[49m\u001b[43m)\u001b[49m\u001b[43m,\u001b[49m\n\u001b[0;32m    402\u001b[0m \u001b[43m    \u001b[49m\u001b[43mheaders\u001b[49m\u001b[38;5;241;43m=\u001b[39;49m\u001b[38;5;28;43mself\u001b[39;49m\u001b[38;5;241;43m.\u001b[39;49m\u001b[43mheaders\u001b[49m\u001b[43m,\u001b[49m\n\u001b[0;32m    403\u001b[0m \u001b[43m    \u001b[49m\u001b[38;5;241;43m*\u001b[39;49m\u001b[38;5;241;43m*\u001b[39;49m\u001b[43mkwargs\u001b[49m\n\u001b[0;32m    404\u001b[0m \u001b[43m\u001b[49m\u001b[43m)\u001b[49m\n\u001b[0;32m    405\u001b[0m \u001b[38;5;28mself\u001b[39m\u001b[38;5;241m.\u001b[39mresponse \u001b[38;5;241m=\u001b[39m response\n",
      "File \u001b[1;32mc:\\Users\\leaka\\AppData\\Local\\Programs\\Python\\Python311\\Lib\\site-packages\\twikit\\client.py:172\u001b[0m, in \u001b[0;36mBaseClient.post\u001b[1;34m(self, url, **kwargs)\u001b[0m\n\u001b[0;32m    171\u001b[0m \u001b[38;5;28;01mdef\u001b[39;00m \u001b[38;5;21mpost\u001b[39m(\u001b[38;5;28mself\u001b[39m, url, \u001b[38;5;241m*\u001b[39m\u001b[38;5;241m*\u001b[39mkwargs) \u001b[38;5;241m-\u001b[39m\u001b[38;5;241m>\u001b[39m \u001b[38;5;28mtuple\u001b[39m[\u001b[38;5;28mdict\u001b[39m \u001b[38;5;241m|\u001b[39m Any, httpx\u001b[38;5;241m.\u001b[39mResponse]:\n\u001b[1;32m--> 172\u001b[0m     \u001b[38;5;28;01mreturn\u001b[39;00m \u001b[38;5;28;43mself\u001b[39;49m\u001b[38;5;241;43m.\u001b[39;49m\u001b[43mrequest\u001b[49m\u001b[43m(\u001b[49m\u001b[38;5;124;43m'\u001b[39;49m\u001b[38;5;124;43mPOST\u001b[39;49m\u001b[38;5;124;43m'\u001b[39;49m\u001b[43m,\u001b[49m\u001b[43m \u001b[49m\u001b[43murl\u001b[49m\u001b[43m,\u001b[49m\u001b[43m \u001b[49m\u001b[38;5;241;43m*\u001b[39;49m\u001b[38;5;241;43m*\u001b[39;49m\u001b[43mkwargs\u001b[49m\u001b[43m)\u001b[49m\n",
      "File \u001b[1;32mc:\\Users\\leaka\\AppData\\Local\\Programs\\Python\\Python311\\Lib\\site-packages\\twikit\\client.py:148\u001b[0m, in \u001b[0;36mBaseClient.request\u001b[1;34m(self, method, url, auto_unlock, raise_exception, **kwargs)\u001b[0m\n\u001b[0;32m    146\u001b[0m message \u001b[38;5;241m=\u001b[39m \u001b[38;5;124mf\u001b[39m\u001b[38;5;124m'\u001b[39m\u001b[38;5;124mstatus: \u001b[39m\u001b[38;5;132;01m{\u001b[39;00mstatus_code\u001b[38;5;132;01m}\u001b[39;00m\u001b[38;5;124m, message: \u001b[39m\u001b[38;5;124m\"\u001b[39m\u001b[38;5;132;01m{\u001b[39;00mresponse\u001b[38;5;241m.\u001b[39mtext\u001b[38;5;132;01m}\u001b[39;00m\u001b[38;5;124m\"\u001b[39m\u001b[38;5;124m'\u001b[39m\n\u001b[0;32m    147\u001b[0m \u001b[38;5;28;01mif\u001b[39;00m status_code \u001b[38;5;241m==\u001b[39m \u001b[38;5;241m400\u001b[39m:\n\u001b[1;32m--> 148\u001b[0m     \u001b[38;5;28;01mraise\u001b[39;00m BadRequest(message, headers\u001b[38;5;241m=\u001b[39mresponse\u001b[38;5;241m.\u001b[39mheaders)\n\u001b[0;32m    149\u001b[0m \u001b[38;5;28;01melif\u001b[39;00m status_code \u001b[38;5;241m==\u001b[39m \u001b[38;5;241m401\u001b[39m:\n\u001b[0;32m    150\u001b[0m     \u001b[38;5;28;01mraise\u001b[39;00m Unauthorized(message, headers\u001b[38;5;241m=\u001b[39mresponse\u001b[38;5;241m.\u001b[39mheaders)\n",
      "\u001b[1;31mBadRequest\u001b[0m: status: 400, message: \"{\"errors\":[{\"code\":366,\"message\":\"flow name LoginFlow is currently not accessible\"}]}\""
     ]
    }
   ],
   "source": [
    "client.login(auth_info_1=username, password=password)\n",
    "client.save_cookies('cookies.json')\n",
    "client.load_cookies(path='cookies.json')"
   ]
  },
  {
   "cell_type": "code",
   "execution_count": 8,
   "id": "1b873178",
   "metadata": {},
   "outputs": [],
   "source": [
    "# Function to handle rate limit\n",
    "def handle_rate_limit():\n",
    "    print(\"Rate limit hit. Sleeping for 15 minutes.\")\n",
    "    time.sleep(15 * 60)  # Sleep for 15 minutes"
   ]
  },
  {
   "cell_type": "code",
   "execution_count": 9,
   "id": "de952419",
   "metadata": {},
   "outputs": [
    {
     "name": "stdout",
     "output_type": "stream",
     "text": [
      "Rate limit hit. Sleeping for 15 minutes.\n",
      "An error occurred: status: 401, message: \"{\"errors\":[{\"message\":\"Could not authenticate you\",\"code\":32}]}\n",
      "\"\n",
      "An error occurred: status: 401, message: \"{\"errors\":[{\"message\":\"Could not authenticate you\",\"code\":32}]}\n",
      "\"\n",
      "An error occurred: status: 401, message: \"{\"errors\":[{\"message\":\"Could not authenticate you\",\"code\":32}]}\n",
      "\"\n",
      "An error occurred: status: 401, message: \"{\"errors\":[{\"message\":\"Could not authenticate you\",\"code\":32}]}\n",
      "\"\n",
      "An error occurred: status: 401, message: \"{\"errors\":[{\"message\":\"Could not authenticate you\",\"code\":32}]}\n",
      "\"\n",
      "An error occurred: status: 401, message: \"{\"errors\":[{\"message\":\"Could not authenticate you\",\"code\":32}]}\n",
      "\"\n",
      "An error occurred: status: 401, message: \"{\"errors\":[{\"message\":\"Could not authenticate you\",\"code\":32}]}\n",
      "\"\n",
      "An error occurred: status: 401, message: \"{\"errors\":[{\"message\":\"Could not authenticate you\",\"code\":32}]}\n",
      "\"\n",
      "An error occurred: status: 401, message: \"{\"errors\":[{\"message\":\"Could not authenticate you\",\"code\":32}]}\n",
      "\"\n",
      "An error occurred: status: 401, message: \"{\"errors\":[{\"message\":\"Could not authenticate you\",\"code\":32}]}\n",
      "\"\n",
      "An error occurred: status: 401, message: \"{\"errors\":[{\"message\":\"Could not authenticate you\",\"code\":32}]}\n",
      "\"\n",
      "An error occurred: status: 401, message: \"{\"errors\":[{\"message\":\"Could not authenticate you\",\"code\":32}]}\n",
      "\"\n",
      "An error occurred: status: 401, message: \"{\"errors\":[{\"message\":\"Could not authenticate you\",\"code\":32}]}\n",
      "\"\n",
      "An error occurred: status: 401, message: \"{\"errors\":[{\"message\":\"Could not authenticate you\",\"code\":32}]}\n",
      "\"\n",
      "An error occurred: status: 401, message: \"{\"errors\":[{\"message\":\"Could not authenticate you\",\"code\":32}]}\n",
      "\"\n",
      "An error occurred: status: 401, message: \"{\"errors\":[{\"message\":\"Could not authenticate you\",\"code\":32}]}\n",
      "\"\n",
      "An error occurred: status: 401, message: \"{\"errors\":[{\"message\":\"Could not authenticate you\",\"code\":32}]}\n",
      "\"\n",
      "An error occurred: status: 401, message: \"{\"errors\":[{\"message\":\"Could not authenticate you\",\"code\":32}]}\n",
      "\"\n",
      "An error occurred: status: 401, message: \"{\"errors\":[{\"message\":\"Could not authenticate you\",\"code\":32}]}\n",
      "\"\n",
      "An error occurred: status: 401, message: \"{\"errors\":[{\"message\":\"Could not authenticate you\",\"code\":32}]}\n",
      "\"\n",
      "An error occurred: status: 401, message: \"{\"errors\":[{\"message\":\"Could not authenticate you\",\"code\":32}]}\n",
      "\"\n",
      "An error occurred: status: 401, message: \"{\"errors\":[{\"message\":\"Could not authenticate you\",\"code\":32}]}\n",
      "\"\n",
      "An error occurred: status: 401, message: \"{\"errors\":[{\"message\":\"Could not authenticate you\",\"code\":32}]}\n",
      "\"\n",
      "An error occurred: status: 401, message: \"{\"errors\":[{\"message\":\"Could not authenticate you\",\"code\":32}]}\n",
      "\"\n",
      "An error occurred: status: 401, message: \"{\"errors\":[{\"message\":\"Could not authenticate you\",\"code\":32}]}\n",
      "\"\n",
      "An error occurred: status: 401, message: \"{\"errors\":[{\"message\":\"Could not authenticate you\",\"code\":32}]}\n",
      "\"\n",
      "An error occurred: status: 401, message: \"{\"errors\":[{\"message\":\"Could not authenticate you\",\"code\":32}]}\n",
      "\"\n",
      "An error occurred: status: 401, message: \"{\"errors\":[{\"message\":\"Could not authenticate you\",\"code\":32}]}\n",
      "\"\n",
      "An error occurred: status: 401, message: \"{\"errors\":[{\"message\":\"Could not authenticate you\",\"code\":32}]}\n",
      "\"\n",
      "An error occurred: status: 401, message: \"{\"errors\":[{\"message\":\"Could not authenticate you\",\"code\":32}]}\n",
      "\"\n",
      "An error occurred: status: 401, message: \"{\"errors\":[{\"message\":\"Could not authenticate you\",\"code\":32}]}\n",
      "\"\n",
      "An error occurred: status: 401, message: \"{\"errors\":[{\"message\":\"Could not authenticate you\",\"code\":32}]}\n",
      "\"\n",
      "An error occurred: status: 401, message: \"{\"errors\":[{\"message\":\"Could not authenticate you\",\"code\":32}]}\n",
      "\"\n",
      "An error occurred: status: 401, message: \"{\"errors\":[{\"message\":\"Could not authenticate you\",\"code\":32}]}\n",
      "\"\n",
      "An error occurred: status: 401, message: \"{\"errors\":[{\"message\":\"Could not authenticate you\",\"code\":32}]}\n",
      "\"\n",
      "An error occurred: status: 401, message: \"{\"errors\":[{\"message\":\"Could not authenticate you\",\"code\":32}]}\n",
      "\"\n",
      "An error occurred: status: 401, message: \"{\"errors\":[{\"message\":\"Could not authenticate you\",\"code\":32}]}\n",
      "\"\n",
      "An error occurred: status: 401, message: \"{\"errors\":[{\"message\":\"Could not authenticate you\",\"code\":32}]}\n",
      "\"\n",
      "An error occurred: status: 401, message: \"{\"errors\":[{\"message\":\"Could not authenticate you\",\"code\":32}]}\n",
      "\"\n",
      "An error occurred: status: 401, message: \"{\"errors\":[{\"message\":\"Could not authenticate you\",\"code\":32}]}\n",
      "\"\n",
      "An error occurred: status: 401, message: \"{\"errors\":[{\"message\":\"Could not authenticate you\",\"code\":32}]}\n",
      "\"\n",
      "An error occurred: status: 401, message: \"{\"errors\":[{\"message\":\"Could not authenticate you\",\"code\":32}]}\n",
      "\"\n",
      "An error occurred: status: 401, message: \"{\"errors\":[{\"message\":\"Could not authenticate you\",\"code\":32}]}\n",
      "\"\n",
      "An error occurred: status: 401, message: \"{\"errors\":[{\"message\":\"Could not authenticate you\",\"code\":32}]}\n",
      "\"\n",
      "An error occurred: status: 401, message: \"{\"errors\":[{\"message\":\"Could not authenticate you\",\"code\":32}]}\n",
      "\"\n",
      "An error occurred: status: 401, message: \"{\"errors\":[{\"message\":\"Could not authenticate you\",\"code\":32}]}\n",
      "\"\n",
      "An error occurred: status: 401, message: \"{\"errors\":[{\"message\":\"Could not authenticate you\",\"code\":32}]}\n",
      "\"\n",
      "An error occurred: status: 401, message: \"{\"errors\":[{\"message\":\"Could not authenticate you\",\"code\":32}]}\n",
      "\"\n",
      "An error occurred: status: 401, message: \"{\"errors\":[{\"message\":\"Could not authenticate you\",\"code\":32}]}\n",
      "\"\n",
      "An error occurred: status: 401, message: \"{\"errors\":[{\"message\":\"Could not authenticate you\",\"code\":32}]}\n",
      "\"\n"
     ]
    }
   ],
   "source": [
    "tweets_to_store = []\n",
    "for name in competitor:\n",
    "    query = f'\"{name}\"'\n",
    "    \n",
    "    while True:\n",
    "        try:\n",
    "            tweets = client.search_tweet(query, 'Latest')\n",
    "            break  # Exit the loop if request was successful\n",
    "        except Exception as e:\n",
    "            if \"Rate limit exceeded\" in str(e):\n",
    "                handle_rate_limit()\n",
    "            else:\n",
    "                print(f\"An error occurred: {e}\")\n",
    "                break\n",
    "\n",
    "\n",
    "    if tweets is None:\n",
    "        print(f\"No tweets found for athlete: {name}\")\n",
    "        continue\n",
    "    \n",
    "    for tweet in tweets:\n",
    "        tweets_to_store.append({\n",
    "            'created_at': tweet.created_at,\n",
    "            'username': tweet.user.name,\n",
    "            'Text': tweet.text,\n",
    "            'Competitor': name\n",
    "        })\n",
    "    \n",
    "    # Sleep for a short interval to avoid hitting the rate limit\n",
    "    time.sleep(5)"
   ]
  },
  {
   "cell_type": "code",
   "execution_count": 10,
   "id": "1529a087",
   "metadata": {},
   "outputs": [],
   "source": [
    "# Save the tweet details to a JSON file\n",
    "with open('tweets_22072024_2.json', 'w') as json_file:\n",
    "    json.dump(tweets_to_store, json_file, indent=4)\n",
    "\n",
    "\n"
   ]
  }
 ],
 "metadata": {
  "kernelspec": {
   "display_name": "Python 3",
   "language": "python",
   "name": "python3"
  },
  "language_info": {
   "codemirror_mode": {
    "name": "ipython",
    "version": 3
   },
   "file_extension": ".py",
   "mimetype": "text/x-python",
   "name": "python",
   "nbconvert_exporter": "python",
   "pygments_lexer": "ipython3",
   "version": "3.11.5"
  }
 },
 "nbformat": 4,
 "nbformat_minor": 5
}
