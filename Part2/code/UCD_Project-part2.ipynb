{
 "cells": [
  {
   "cell_type": "markdown",
   "id": "2d683a56-4be9-44e7-87c0-a6f20c55cd0a",
   "metadata": {},
   "source": [
    "# Part 2 - Other features analysis"
   ]
  },
  {
   "cell_type": "markdown",
   "id": "a3be530b-fc82-4932-8c5e-cff2c4a5de93",
   "metadata": {
    "jp-MarkdownHeadingCollapsed": true
   },
   "source": [
    "## .."
   ]
  },
  {
   "cell_type": "code",
   "execution_count": 31,
   "id": "752227db",
   "metadata": {},
   "outputs": [],
   "source": [
    "#pip install matplotlib"
   ]
  },
  {
   "cell_type": "code",
   "execution_count": 1,
   "id": "f74fe824-33fc-4314-8b33-7b4504744ab2",
   "metadata": {},
   "outputs": [],
   "source": [
    "# Import packages\n",
    "import json\n",
    "import csv\n",
    "import requests\n",
    "from bs4 import BeautifulSoup\n",
    "import pandas as pd\n",
    "import numpy as np\n",
    "import matplotlib.pyplot as plt"
   ]
  },
  {
   "cell_type": "markdown",
   "id": "ce261233-562d-44c0-a188-4cfdc66bf199",
   "metadata": {},
   "source": [
    "#### *100m sprint*"
   ]
  },
  {
   "cell_type": "code",
   "execution_count": 1,
   "id": "c31ab19b-1955-466b-9ee0-50cb68362f30",
   "metadata": {},
   "outputs": [
    {
     "name": "stdout",
     "output_type": "stream",
     "text": [
      "Data has been saved to 100m_sprint_all_time_toplist.csv\n"
     ]
    }
   ],
   "source": [
    "import requests\n",
    "from bs4 import BeautifulSoup\n",
    "import pandas as pd\n",
    "\n",
    "# URL of the page to scrape\n",
    "url = \"https://worldathletics.org/records/all-time-toplists/sprints/100-metres/outdoor/men/senior\"\n",
    "\n",
    "# Send a request to fetch the page content\n",
    "response = requests.get(url)\n",
    "response.raise_for_status()  # Ensure the request was successful\n",
    "\n",
    "# Parse the page content\n",
    "soup = BeautifulSoup(response.text, 'html.parser')\n",
    "\n",
    "# Find the table containing the data\n",
    "table = soup.find('table')\n",
    "\n",
    "# Extract table headers\n",
    "headers = [header.text.strip() for header in table.find_all('th')]\n",
    "\n",
    "# Extract table rows\n",
    "rows = []\n",
    "for row in table.find_all('tr')[1:]:  # Skip the header row\n",
    "    columns = row.find_all('td')\n",
    "    row_data = [col.text.strip() for col in columns]\n",
    "    rows.append(row_data)\n",
    "\n",
    "# Create a DataFrame\n",
    "df = pd.DataFrame(rows, columns=headers)\n",
    "\n",
    "# Save the data to a CSV file\n",
    "df.to_csv('100m_sprint_all_time_toplist.csv', index=False)\n",
    "\n",
    "print(\"Data has been saved to 100m_sprint_all_time_toplist.csv\")\n"
   ]
  },
  {
   "cell_type": "code",
   "execution_count": 2,
   "id": "d3814591-e2d4-4f11-9730-6fac74f40463",
   "metadata": {},
   "outputs": [
    {
     "data": {
      "text/html": [
       "<div>\n",
       "<style scoped>\n",
       "    .dataframe tbody tr th:only-of-type {\n",
       "        vertical-align: middle;\n",
       "    }\n",
       "\n",
       "    .dataframe tbody tr th {\n",
       "        vertical-align: top;\n",
       "    }\n",
       "\n",
       "    .dataframe thead th {\n",
       "        text-align: right;\n",
       "    }\n",
       "</style>\n",
       "<table border=\"1\" class=\"dataframe\">\n",
       "  <thead>\n",
       "    <tr style=\"text-align: right;\">\n",
       "      <th></th>\n",
       "      <th>Rank</th>\n",
       "      <th>Mark</th>\n",
       "      <th>WIND</th>\n",
       "      <th>Competitor</th>\n",
       "      <th>DOB</th>\n",
       "      <th>Nat</th>\n",
       "      <th>Pos</th>\n",
       "      <th></th>\n",
       "      <th>Venue</th>\n",
       "      <th>Date</th>\n",
       "      <th>Results Score</th>\n",
       "    </tr>\n",
       "  </thead>\n",
       "  <tbody>\n",
       "    <tr>\n",
       "      <th>0</th>\n",
       "      <td>1</td>\n",
       "      <td>9.58</td>\n",
       "      <td>+0.9</td>\n",
       "      <td>Usain BOLT</td>\n",
       "      <td>21 AUG 1986</td>\n",
       "      <td>JAM</td>\n",
       "      <td>1</td>\n",
       "      <td></td>\n",
       "      <td>Olympiastadion, Berlin (GER)</td>\n",
       "      <td>16 AUG 2009</td>\n",
       "      <td>1356</td>\n",
       "    </tr>\n",
       "    <tr>\n",
       "      <th>1</th>\n",
       "      <td>2</td>\n",
       "      <td>9.69</td>\n",
       "      <td>+2.0</td>\n",
       "      <td>Tyson GAY</td>\n",
       "      <td>09 AUG 1982</td>\n",
       "      <td>USA</td>\n",
       "      <td>1</td>\n",
       "      <td></td>\n",
       "      <td>Shanghai (CHN)</td>\n",
       "      <td>20 SEP 2009</td>\n",
       "      <td>1316</td>\n",
       "    </tr>\n",
       "    <tr>\n",
       "      <th>2</th>\n",
       "      <td>2</td>\n",
       "      <td>9.69</td>\n",
       "      <td>-0.1</td>\n",
       "      <td>Yohan BLAKE</td>\n",
       "      <td>26 DEC 1989</td>\n",
       "      <td>JAM</td>\n",
       "      <td>1</td>\n",
       "      <td></td>\n",
       "      <td>Stade Olympique de la Pontaise, Lausanne (SUI)</td>\n",
       "      <td>23 AUG 2012</td>\n",
       "      <td>1316</td>\n",
       "    </tr>\n",
       "    <tr>\n",
       "      <th>3</th>\n",
       "      <td>4</td>\n",
       "      <td>9.72</td>\n",
       "      <td>+0.2</td>\n",
       "      <td>Asafa POWELL</td>\n",
       "      <td>23 NOV 1982</td>\n",
       "      <td>JAM</td>\n",
       "      <td>1f1</td>\n",
       "      <td></td>\n",
       "      <td>Stade Olympique de la Pontaise, Lausanne (SUI)</td>\n",
       "      <td>02 SEP 2008</td>\n",
       "      <td>1305</td>\n",
       "    </tr>\n",
       "    <tr>\n",
       "      <th>4</th>\n",
       "      <td>5</td>\n",
       "      <td>9.74</td>\n",
       "      <td>+0.9</td>\n",
       "      <td>Justin GATLIN</td>\n",
       "      <td>10 FEB 1982</td>\n",
       "      <td>USA</td>\n",
       "      <td>1</td>\n",
       "      <td></td>\n",
       "      <td>Suhaim bin Hamad Stadium, Doha (QAT)</td>\n",
       "      <td>15 MAY 2015</td>\n",
       "      <td>1298</td>\n",
       "    </tr>\n",
       "    <tr>\n",
       "      <th>...</th>\n",
       "      <td>...</td>\n",
       "      <td>...</td>\n",
       "      <td>...</td>\n",
       "      <td>...</td>\n",
       "      <td>...</td>\n",
       "      <td>...</td>\n",
       "      <td>...</td>\n",
       "      <td>...</td>\n",
       "      <td>...</td>\n",
       "      <td>...</td>\n",
       "      <td>...</td>\n",
       "    </tr>\n",
       "    <tr>\n",
       "      <th>95</th>\n",
       "      <td>95</td>\n",
       "      <td>9.94</td>\n",
       "      <td>-0.2</td>\n",
       "      <td>Bernard WILLIAMS</td>\n",
       "      <td>19 JAN 1978</td>\n",
       "      <td>USA</td>\n",
       "      <td>2</td>\n",
       "      <td></td>\n",
       "      <td>Commonwealth Stadium, Edmonton (CAN)</td>\n",
       "      <td>05 AUG 2001</td>\n",
       "      <td>1228</td>\n",
       "    </tr>\n",
       "    <tr>\n",
       "      <th>96</th>\n",
       "      <td>95</td>\n",
       "      <td>9.94</td>\n",
       "      <td>+1.7</td>\n",
       "      <td>Diondre BATSON</td>\n",
       "      <td>13 JUL 1992</td>\n",
       "      <td>USA</td>\n",
       "      <td>2h2</td>\n",
       "      <td></td>\n",
       "      <td>Hayward Field, Eugene, OR (USA)</td>\n",
       "      <td>25 JUN 2015</td>\n",
       "      <td>1227</td>\n",
       "    </tr>\n",
       "    <tr>\n",
       "      <th>97</th>\n",
       "      <td>95</td>\n",
       "      <td>9.94</td>\n",
       "      <td>+1.4</td>\n",
       "      <td>Andrew FISHER</td>\n",
       "      <td>15 DEC 1991</td>\n",
       "      <td>JAM</td>\n",
       "      <td>2</td>\n",
       "      <td></td>\n",
       "      <td>Moratalaz, Madrid (ESP)</td>\n",
       "      <td>11 JUL 2015</td>\n",
       "      <td>1227</td>\n",
       "    </tr>\n",
       "    <tr>\n",
       "      <th>98</th>\n",
       "      <td>95</td>\n",
       "      <td>9.94</td>\n",
       "      <td>+1.0</td>\n",
       "      <td>Ameer WEBB</td>\n",
       "      <td>19 MAR 1991</td>\n",
       "      <td>USA</td>\n",
       "      <td>2f1</td>\n",
       "      <td></td>\n",
       "      <td>Stadio Olimpico, Roma (ITA)</td>\n",
       "      <td>02 JUN 2016</td>\n",
       "      <td>1227</td>\n",
       "    </tr>\n",
       "    <tr>\n",
       "      <th>99</th>\n",
       "      <td>95</td>\n",
       "      <td>9.94</td>\n",
       "      <td>+0.9</td>\n",
       "      <td>Wayde VAN NIEKERK</td>\n",
       "      <td>15 JUL 1992</td>\n",
       "      <td>RSA</td>\n",
       "      <td>1f3</td>\n",
       "      <td></td>\n",
       "      <td>Velenje (SLO)</td>\n",
       "      <td>20 JUN 2017</td>\n",
       "      <td>1227</td>\n",
       "    </tr>\n",
       "  </tbody>\n",
       "</table>\n",
       "<p>100 rows × 11 columns</p>\n",
       "</div>"
      ],
      "text/plain": [
       "   Rank  Mark  WIND         Competitor          DOB  Nat  Pos     \\\n",
       "0     1  9.58  +0.9         Usain BOLT  21 AUG 1986  JAM    1      \n",
       "1     2  9.69  +2.0          Tyson GAY  09 AUG 1982  USA    1      \n",
       "2     2  9.69  -0.1        Yohan BLAKE  26 DEC 1989  JAM    1      \n",
       "3     4  9.72  +0.2       Asafa POWELL  23 NOV 1982  JAM  1f1      \n",
       "4     5  9.74  +0.9      Justin GATLIN  10 FEB 1982  USA    1      \n",
       "..  ...   ...   ...                ...          ...  ...  ... ..   \n",
       "95   95  9.94  -0.2   Bernard WILLIAMS  19 JAN 1978  USA    2      \n",
       "96   95  9.94  +1.7     Diondre BATSON  13 JUL 1992  USA  2h2      \n",
       "97   95  9.94  +1.4      Andrew FISHER  15 DEC 1991  JAM    2      \n",
       "98   95  9.94  +1.0         Ameer WEBB  19 MAR 1991  USA  2f1      \n",
       "99   95  9.94  +0.9  Wayde VAN NIEKERK  15 JUL 1992  RSA  1f3      \n",
       "\n",
       "                                             Venue         Date Results Score  \n",
       "0                     Olympiastadion, Berlin (GER)  16 AUG 2009          1356  \n",
       "1                                   Shanghai (CHN)  20 SEP 2009          1316  \n",
       "2   Stade Olympique de la Pontaise, Lausanne (SUI)  23 AUG 2012          1316  \n",
       "3   Stade Olympique de la Pontaise, Lausanne (SUI)  02 SEP 2008          1305  \n",
       "4             Suhaim bin Hamad Stadium, Doha (QAT)  15 MAY 2015          1298  \n",
       "..                                             ...          ...           ...  \n",
       "95            Commonwealth Stadium, Edmonton (CAN)  05 AUG 2001          1228  \n",
       "96                 Hayward Field, Eugene, OR (USA)  25 JUN 2015          1227  \n",
       "97                         Moratalaz, Madrid (ESP)  11 JUL 2015          1227  \n",
       "98                     Stadio Olimpico, Roma (ITA)  02 JUN 2016          1227  \n",
       "99                                   Velenje (SLO)  20 JUN 2017          1227  \n",
       "\n",
       "[100 rows x 11 columns]"
      ]
     },
     "execution_count": 2,
     "metadata": {},
     "output_type": "execute_result"
    }
   ],
   "source": [
    "df"
   ]
  },
  {
   "cell_type": "markdown",
   "id": "1a2b8865-8215-4b12-98af-6cffac985573",
   "metadata": {},
   "source": [
    "We now have created a dataframe and saved it in a csv file. This gives us informations about the 100 first athletes for the 100m sprint in the world.\n",
    "\n",
    "We have 11 columns:\n",
    "- ID\n",
    "- Rank\n",
    "- Mark\n",
    "- WIND\n",
    "- Competitor (the name and surname of the athlete)\n",
    "- DOB (the date of birth)\n",
    "- NAT (nationality)\n",
    "- Pos (I don't know yet)\n",
    "- Venue (The venue in which he made his best time)\n",
    "- Date (the date he made his best time)\n",
    "- Result score\n",
    "\n",
    "We ideally want to have more information about each individual athlete. To do that, another page of this website has access to their profile page. We need to get access to it doing once again webscrapping."
   ]
  },
  {
   "cell_type": "code",
   "execution_count": 5,
   "id": "e02eda05-0a98-49b2-9442-becaf56cb37c",
   "metadata": {},
   "outputs": [],
   "source": [
    "#pip install requests"
   ]
  },
  {
   "cell_type": "markdown",
   "id": "ecc702f2-96d6-45b8-9266-30964b198bb4",
   "metadata": {
    "jp-MarkdownHeadingCollapsed": true
   },
   "source": [
    "## Data collection"
   ]
  },
  {
   "cell_type": "markdown",
   "id": "d656ca2b-c037-48ac-bf97-39dbd4373727",
   "metadata": {
    "jp-MarkdownHeadingCollapsed": true
   },
   "source": [
    "Web scrapping with *beautifulsoup4* from the website https://worldathletics.org/world-rankings/5000m/men?regionType=world&page=1&rankDate=2024-06-04&limitByCountry=0"
   ]
  },
  {
   "cell_type": "markdown",
   "id": "dd69b812-bd03-4cda-b7b2-ad2277aedc9c",
   "metadata": {},
   "source": [
    "#### *5000m*"
   ]
  },
  {
   "cell_type": "code",
   "execution_count": 2,
   "id": "43699c80-7c2a-492c-8296-c1924ad1642e",
   "metadata": {
    "scrolled": true
   },
   "outputs": [
    {
     "name": "stdout",
     "output_type": "stream",
     "text": [
      "Requirement already satisfied: beautifulsoup4 in /Users/agathevianeyliaud/opt/anaconda3/envs/tensorflow/lib/python3.11/site-packages (4.12.2)\n",
      "Requirement already satisfied: soupsieve>1.2 in /Users/agathevianeyliaud/opt/anaconda3/envs/tensorflow/lib/python3.11/site-packages (from beautifulsoup4) (2.5)\n",
      "Note: you may need to restart the kernel to use updated packages.\n"
     ]
    }
   ],
   "source": [
    "#pip install beautifulsoup4"
   ]
  },
  {
   "cell_type": "markdown",
   "id": "11ba966e-238d-4d9c-8892-67dc1882ed68",
   "metadata": {},
   "source": [
    "Import packages"
   ]
  },
  {
   "cell_type": "markdown",
   "id": "fee0b822-fca6-44b7-a540-3fe7093f0df6",
   "metadata": {},
   "source": [
    "Create and define functions"
   ]
  },
  {
   "cell_type": "code",
   "execution_count": 3,
   "id": "e9ed1dda-138c-4197-a6a5-e16b8bf7f08f",
   "metadata": {},
   "outputs": [],
   "source": [
    "# Function to fetch athlete profile URLs and nationalities\n",
    "def fetch_profile_urls():\n",
    "    url = \"https://worldathletics.org/world-rankings/5000m/men?regionType=world&page=1&rankDate=2024-06-04&limitByCountry=0\"\n",
    "    response = requests.get(url)\n",
    "    response.raise_for_status()  # Ensure the request was successful\n",
    "\n",
    "    soup = BeautifulSoup(response.text, 'html.parser')\n",
    "\n",
    "    # Find all table rows containing athlete data\n",
    "    athlete_rows = soup.find_all('tr', class_='table-row--hover')\n",
    "\n",
    "    athletes = {}\n",
    "    for row in athlete_rows:\n",
    "        name_element = row.find('td', {'data-th': 'Competitor'})\n",
    "        if name_element:\n",
    "            name = name_element.text.strip()\n",
    "            profile_url = \"https://worldathletics.org\" + row['data-athlete-url']\n",
    "            nationality_element = row.find('td', {'data-th': 'Nat'})\n",
    "            if nationality_element:\n",
    "                nationality = nationality_element.text.strip()\n",
    "            else:\n",
    "                nationality = \"\"\n",
    "            athletes[name] = {'profile_url': profile_url, 'nationality': nationality}\n",
    "\n",
    "    return athletes"
   ]
  },
  {
   "cell_type": "code",
   "execution_count": 4,
   "id": "bf640dc9-98b4-445e-bf3a-53d96916ed59",
   "metadata": {},
   "outputs": [],
   "source": [
    "# Function to recursively search for 5000 meters results\n",
    "def search_5000m_results(node, results):\n",
    "    if isinstance(node, dict):\n",
    "        for key, value in node.items():\n",
    "            if isinstance(value, list) or isinstance(value, dict):\n",
    "                search_5000m_results(value, results)\n",
    "            elif key == 'discipline' and '5000 Metres' in value:\n",
    "                results.append(node)\n",
    "    elif isinstance(node, list):\n",
    "        for item in node:\n",
    "            if isinstance(item, list) or isinstance(item, dict):\n",
    "                search_5000m_results(item, results)\n",
    "\n",
    "\n",
    "# Function to extract 5000m results for a given athlete URL\n",
    "def extract_5000m_results(url):\n",
    "    # Fetch the HTML content of the page\n",
    "    response = requests.get(url)\n",
    "    response.raise_for_status()  # Ensure the request was successful\n",
    "    html_content = response.text\n",
    "\n",
    "    # Parse the HTML content using BeautifulSoup\n",
    "    soup = BeautifulSoup(html_content, 'html.parser')\n",
    "\n",
    "    # Find the <script> tag with id=\"__NEXT_DATA__\" and type=\"application/json\"\n",
    "    script_tag = soup.find('script', {'id': '__NEXT_DATA__', 'type': 'application/json'})\n",
    "\n",
    "    # Extract the JSON content from the <script> tag\n",
    "    json_content = script_tag.string\n",
    "\n",
    "    # Parse the JSON content\n",
    "    data = json.loads(json_content)\n",
    "\n",
    "    # Extract 5000 meters results\n",
    "    results_5000m = []\n",
    "    search_5000m_results(data, results_5000m)\n",
    "\n",
    "    return results_5000m\n"
   ]
  },
  {
   "cell_type": "code",
   "execution_count": 5,
   "id": "b5e16b03-427b-4790-b8d1-c552b576188d",
   "metadata": {},
   "outputs": [],
   "source": [
    "# Function to extract relevant data\n",
    "def extract_5000m_data(athlete, nationality, results):\n",
    "    for result in results:\n",
    "        # Check if this is a progression result with multiple results\n",
    "        if 'results' in result:\n",
    "            for progression in result['results']:\n",
    "                rows.append({\n",
    "                    'Athlete': athlete,\n",
    "                    'Nationality': nationality,\n",
    "                    'Score': progression.get('resultScore', ''),\n",
    "                    'Date': progression.get('date', ''),\n",
    "                    'Venue': progression.get('venue', ''),\n",
    "                    'Place': progression.get('place', '')  # Use 'listPosition' instead of 'place'\n",
    "                })\n",
    "        else:\n",
    "            rows.append({\n",
    "                'Athlete': athlete,\n",
    "                'Nationality': nationality,\n",
    "                'Score': result.get('resultScore', ''),\n",
    "                'Date': result.get('date', ''),\n",
    "                'Venue': result.get('venue', ''),\n",
    "                'Place': result.get('place', '')  # Use 'listPosition' instead of 'place'\n",
    "            })"
   ]
  },
  {
   "cell_type": "markdown",
   "id": "79488180-a1ca-4c3d-b41d-17106989727e",
   "metadata": {},
   "source": [
    "Create a dataset in a data frame and csv format."
   ]
  },
  {
   "cell_type": "code",
   "execution_count": 6,
   "id": "090ea613-119a-4c7e-b72d-14a4a16d027c",
   "metadata": {
    "scrolled": true
   },
   "outputs": [
    {
     "ename": "KeyboardInterrupt",
     "evalue": "",
     "output_type": "error",
     "traceback": [
      "\u001b[0;31m---------------------------------------------------------------------------\u001b[0m",
      "\u001b[0;31mKeyboardInterrupt\u001b[0m                         Traceback (most recent call last)",
      "Cell \u001b[0;32mIn[6], line 12\u001b[0m\n\u001b[1;32m     10\u001b[0m nationality \u001b[38;5;241m=\u001b[39m data[\u001b[38;5;124m'\u001b[39m\u001b[38;5;124mnationality\u001b[39m\u001b[38;5;124m'\u001b[39m]\n\u001b[1;32m     11\u001b[0m \u001b[38;5;66;03m#print(f\"Extracting 5000m results for {athlete}...\")\u001b[39;00m\n\u001b[0;32m---> 12\u001b[0m athlete_results \u001b[38;5;241m=\u001b[39m extract_5000m_results(athlete_url)\n\u001b[1;32m     14\u001b[0m \u001b[38;5;66;03m# List to hold the extracted rows for this athlete\u001b[39;00m\n\u001b[1;32m     15\u001b[0m rows \u001b[38;5;241m=\u001b[39m []\n",
      "Cell \u001b[0;32mIn[4], line 18\u001b[0m, in \u001b[0;36mextract_5000m_results\u001b[0;34m(url)\u001b[0m\n\u001b[1;32m     16\u001b[0m \u001b[38;5;28;01mdef\u001b[39;00m \u001b[38;5;21mextract_5000m_results\u001b[39m(url):\n\u001b[1;32m     17\u001b[0m     \u001b[38;5;66;03m# Fetch the HTML content of the page\u001b[39;00m\n\u001b[0;32m---> 18\u001b[0m     response \u001b[38;5;241m=\u001b[39m requests\u001b[38;5;241m.\u001b[39mget(url)\n\u001b[1;32m     19\u001b[0m     response\u001b[38;5;241m.\u001b[39mraise_for_status()  \u001b[38;5;66;03m# Ensure the request was successful\u001b[39;00m\n\u001b[1;32m     20\u001b[0m     html_content \u001b[38;5;241m=\u001b[39m response\u001b[38;5;241m.\u001b[39mtext\n",
      "File \u001b[0;32m~/opt/anaconda3/envs/tensorflow/lib/python3.11/site-packages/requests/api.py:73\u001b[0m, in \u001b[0;36mget\u001b[0;34m(url, params, **kwargs)\u001b[0m\n\u001b[1;32m     62\u001b[0m \u001b[38;5;28;01mdef\u001b[39;00m \u001b[38;5;21mget\u001b[39m(url, params\u001b[38;5;241m=\u001b[39m\u001b[38;5;28;01mNone\u001b[39;00m, \u001b[38;5;241m*\u001b[39m\u001b[38;5;241m*\u001b[39mkwargs):\n\u001b[1;32m     63\u001b[0m \u001b[38;5;250m    \u001b[39m\u001b[38;5;124mr\u001b[39m\u001b[38;5;124;03m\"\"\"Sends a GET request.\u001b[39;00m\n\u001b[1;32m     64\u001b[0m \n\u001b[1;32m     65\u001b[0m \u001b[38;5;124;03m    :param url: URL for the new :class:`Request` object.\u001b[39;00m\n\u001b[0;32m   (...)\u001b[0m\n\u001b[1;32m     70\u001b[0m \u001b[38;5;124;03m    :rtype: requests.Response\u001b[39;00m\n\u001b[1;32m     71\u001b[0m \u001b[38;5;124;03m    \"\"\"\u001b[39;00m\n\u001b[0;32m---> 73\u001b[0m     \u001b[38;5;28;01mreturn\u001b[39;00m request(\u001b[38;5;124m\"\u001b[39m\u001b[38;5;124mget\u001b[39m\u001b[38;5;124m\"\u001b[39m, url, params\u001b[38;5;241m=\u001b[39mparams, \u001b[38;5;241m*\u001b[39m\u001b[38;5;241m*\u001b[39mkwargs)\n",
      "File \u001b[0;32m~/opt/anaconda3/envs/tensorflow/lib/python3.11/site-packages/requests/api.py:59\u001b[0m, in \u001b[0;36mrequest\u001b[0;34m(method, url, **kwargs)\u001b[0m\n\u001b[1;32m     55\u001b[0m \u001b[38;5;66;03m# By using the 'with' statement we are sure the session is closed, thus we\u001b[39;00m\n\u001b[1;32m     56\u001b[0m \u001b[38;5;66;03m# avoid leaving sockets open which can trigger a ResourceWarning in some\u001b[39;00m\n\u001b[1;32m     57\u001b[0m \u001b[38;5;66;03m# cases, and look like a memory leak in others.\u001b[39;00m\n\u001b[1;32m     58\u001b[0m \u001b[38;5;28;01mwith\u001b[39;00m sessions\u001b[38;5;241m.\u001b[39mSession() \u001b[38;5;28;01mas\u001b[39;00m session:\n\u001b[0;32m---> 59\u001b[0m     \u001b[38;5;28;01mreturn\u001b[39;00m session\u001b[38;5;241m.\u001b[39mrequest(method\u001b[38;5;241m=\u001b[39mmethod, url\u001b[38;5;241m=\u001b[39murl, \u001b[38;5;241m*\u001b[39m\u001b[38;5;241m*\u001b[39mkwargs)\n",
      "File \u001b[0;32m~/opt/anaconda3/envs/tensorflow/lib/python3.11/site-packages/requests/sessions.py:589\u001b[0m, in \u001b[0;36mSession.request\u001b[0;34m(self, method, url, params, data, headers, cookies, files, auth, timeout, allow_redirects, proxies, hooks, stream, verify, cert, json)\u001b[0m\n\u001b[1;32m    584\u001b[0m send_kwargs \u001b[38;5;241m=\u001b[39m {\n\u001b[1;32m    585\u001b[0m     \u001b[38;5;124m\"\u001b[39m\u001b[38;5;124mtimeout\u001b[39m\u001b[38;5;124m\"\u001b[39m: timeout,\n\u001b[1;32m    586\u001b[0m     \u001b[38;5;124m\"\u001b[39m\u001b[38;5;124mallow_redirects\u001b[39m\u001b[38;5;124m\"\u001b[39m: allow_redirects,\n\u001b[1;32m    587\u001b[0m }\n\u001b[1;32m    588\u001b[0m send_kwargs\u001b[38;5;241m.\u001b[39mupdate(settings)\n\u001b[0;32m--> 589\u001b[0m resp \u001b[38;5;241m=\u001b[39m \u001b[38;5;28mself\u001b[39m\u001b[38;5;241m.\u001b[39msend(prep, \u001b[38;5;241m*\u001b[39m\u001b[38;5;241m*\u001b[39msend_kwargs)\n\u001b[1;32m    591\u001b[0m \u001b[38;5;28;01mreturn\u001b[39;00m resp\n",
      "File \u001b[0;32m~/opt/anaconda3/envs/tensorflow/lib/python3.11/site-packages/requests/sessions.py:703\u001b[0m, in \u001b[0;36mSession.send\u001b[0;34m(self, request, **kwargs)\u001b[0m\n\u001b[1;32m    700\u001b[0m start \u001b[38;5;241m=\u001b[39m preferred_clock()\n\u001b[1;32m    702\u001b[0m \u001b[38;5;66;03m# Send the request\u001b[39;00m\n\u001b[0;32m--> 703\u001b[0m r \u001b[38;5;241m=\u001b[39m adapter\u001b[38;5;241m.\u001b[39msend(request, \u001b[38;5;241m*\u001b[39m\u001b[38;5;241m*\u001b[39mkwargs)\n\u001b[1;32m    705\u001b[0m \u001b[38;5;66;03m# Total elapsed time of the request (approximately)\u001b[39;00m\n\u001b[1;32m    706\u001b[0m elapsed \u001b[38;5;241m=\u001b[39m preferred_clock() \u001b[38;5;241m-\u001b[39m start\n",
      "File \u001b[0;32m~/opt/anaconda3/envs/tensorflow/lib/python3.11/site-packages/requests/adapters.py:486\u001b[0m, in \u001b[0;36mHTTPAdapter.send\u001b[0;34m(self, request, stream, timeout, verify, cert, proxies)\u001b[0m\n\u001b[1;32m    483\u001b[0m     timeout \u001b[38;5;241m=\u001b[39m TimeoutSauce(connect\u001b[38;5;241m=\u001b[39mtimeout, read\u001b[38;5;241m=\u001b[39mtimeout)\n\u001b[1;32m    485\u001b[0m \u001b[38;5;28;01mtry\u001b[39;00m:\n\u001b[0;32m--> 486\u001b[0m     resp \u001b[38;5;241m=\u001b[39m conn\u001b[38;5;241m.\u001b[39murlopen(\n\u001b[1;32m    487\u001b[0m         method\u001b[38;5;241m=\u001b[39mrequest\u001b[38;5;241m.\u001b[39mmethod,\n\u001b[1;32m    488\u001b[0m         url\u001b[38;5;241m=\u001b[39murl,\n\u001b[1;32m    489\u001b[0m         body\u001b[38;5;241m=\u001b[39mrequest\u001b[38;5;241m.\u001b[39mbody,\n\u001b[1;32m    490\u001b[0m         headers\u001b[38;5;241m=\u001b[39mrequest\u001b[38;5;241m.\u001b[39mheaders,\n\u001b[1;32m    491\u001b[0m         redirect\u001b[38;5;241m=\u001b[39m\u001b[38;5;28;01mFalse\u001b[39;00m,\n\u001b[1;32m    492\u001b[0m         assert_same_host\u001b[38;5;241m=\u001b[39m\u001b[38;5;28;01mFalse\u001b[39;00m,\n\u001b[1;32m    493\u001b[0m         preload_content\u001b[38;5;241m=\u001b[39m\u001b[38;5;28;01mFalse\u001b[39;00m,\n\u001b[1;32m    494\u001b[0m         decode_content\u001b[38;5;241m=\u001b[39m\u001b[38;5;28;01mFalse\u001b[39;00m,\n\u001b[1;32m    495\u001b[0m         retries\u001b[38;5;241m=\u001b[39m\u001b[38;5;28mself\u001b[39m\u001b[38;5;241m.\u001b[39mmax_retries,\n\u001b[1;32m    496\u001b[0m         timeout\u001b[38;5;241m=\u001b[39mtimeout,\n\u001b[1;32m    497\u001b[0m         chunked\u001b[38;5;241m=\u001b[39mchunked,\n\u001b[1;32m    498\u001b[0m     )\n\u001b[1;32m    500\u001b[0m \u001b[38;5;28;01mexcept\u001b[39;00m (ProtocolError, \u001b[38;5;167;01mOSError\u001b[39;00m) \u001b[38;5;28;01mas\u001b[39;00m err:\n\u001b[1;32m    501\u001b[0m     \u001b[38;5;28;01mraise\u001b[39;00m \u001b[38;5;167;01mConnectionError\u001b[39;00m(err, request\u001b[38;5;241m=\u001b[39mrequest)\n",
      "File \u001b[0;32m~/opt/anaconda3/envs/tensorflow/lib/python3.11/site-packages/urllib3/connectionpool.py:715\u001b[0m, in \u001b[0;36mHTTPConnectionPool.urlopen\u001b[0;34m(self, method, url, body, headers, retries, redirect, assert_same_host, timeout, pool_timeout, release_conn, chunked, body_pos, **response_kw)\u001b[0m\n\u001b[1;32m    712\u001b[0m     \u001b[38;5;28mself\u001b[39m\u001b[38;5;241m.\u001b[39m_prepare_proxy(conn)\n\u001b[1;32m    714\u001b[0m \u001b[38;5;66;03m# Make the request on the httplib connection object.\u001b[39;00m\n\u001b[0;32m--> 715\u001b[0m httplib_response \u001b[38;5;241m=\u001b[39m \u001b[38;5;28mself\u001b[39m\u001b[38;5;241m.\u001b[39m_make_request(\n\u001b[1;32m    716\u001b[0m     conn,\n\u001b[1;32m    717\u001b[0m     method,\n\u001b[1;32m    718\u001b[0m     url,\n\u001b[1;32m    719\u001b[0m     timeout\u001b[38;5;241m=\u001b[39mtimeout_obj,\n\u001b[1;32m    720\u001b[0m     body\u001b[38;5;241m=\u001b[39mbody,\n\u001b[1;32m    721\u001b[0m     headers\u001b[38;5;241m=\u001b[39mheaders,\n\u001b[1;32m    722\u001b[0m     chunked\u001b[38;5;241m=\u001b[39mchunked,\n\u001b[1;32m    723\u001b[0m )\n\u001b[1;32m    725\u001b[0m \u001b[38;5;66;03m# If we're going to release the connection in ``finally:``, then\u001b[39;00m\n\u001b[1;32m    726\u001b[0m \u001b[38;5;66;03m# the response doesn't need to know about the connection. Otherwise\u001b[39;00m\n\u001b[1;32m    727\u001b[0m \u001b[38;5;66;03m# it will also try to release it and we'll have a double-release\u001b[39;00m\n\u001b[1;32m    728\u001b[0m \u001b[38;5;66;03m# mess.\u001b[39;00m\n\u001b[1;32m    729\u001b[0m response_conn \u001b[38;5;241m=\u001b[39m conn \u001b[38;5;28;01mif\u001b[39;00m \u001b[38;5;129;01mnot\u001b[39;00m release_conn \u001b[38;5;28;01melse\u001b[39;00m \u001b[38;5;28;01mNone\u001b[39;00m\n",
      "File \u001b[0;32m~/opt/anaconda3/envs/tensorflow/lib/python3.11/site-packages/urllib3/connectionpool.py:467\u001b[0m, in \u001b[0;36mHTTPConnectionPool._make_request\u001b[0;34m(self, conn, method, url, timeout, chunked, **httplib_request_kw)\u001b[0m\n\u001b[1;32m    462\u001b[0m             httplib_response \u001b[38;5;241m=\u001b[39m conn\u001b[38;5;241m.\u001b[39mgetresponse()\n\u001b[1;32m    463\u001b[0m         \u001b[38;5;28;01mexcept\u001b[39;00m \u001b[38;5;167;01mBaseException\u001b[39;00m \u001b[38;5;28;01mas\u001b[39;00m e:\n\u001b[1;32m    464\u001b[0m             \u001b[38;5;66;03m# Remove the TypeError from the exception chain in\u001b[39;00m\n\u001b[1;32m    465\u001b[0m             \u001b[38;5;66;03m# Python 3 (including for exceptions like SystemExit).\u001b[39;00m\n\u001b[1;32m    466\u001b[0m             \u001b[38;5;66;03m# Otherwise it looks like a bug in the code.\u001b[39;00m\n\u001b[0;32m--> 467\u001b[0m             six\u001b[38;5;241m.\u001b[39mraise_from(e, \u001b[38;5;28;01mNone\u001b[39;00m)\n\u001b[1;32m    468\u001b[0m \u001b[38;5;28;01mexcept\u001b[39;00m (SocketTimeout, BaseSSLError, SocketError) \u001b[38;5;28;01mas\u001b[39;00m e:\n\u001b[1;32m    469\u001b[0m     \u001b[38;5;28mself\u001b[39m\u001b[38;5;241m.\u001b[39m_raise_timeout(err\u001b[38;5;241m=\u001b[39me, url\u001b[38;5;241m=\u001b[39murl, timeout_value\u001b[38;5;241m=\u001b[39mread_timeout)\n",
      "File \u001b[0;32m<string>:3\u001b[0m, in \u001b[0;36mraise_from\u001b[0;34m(value, from_value)\u001b[0m\n",
      "File \u001b[0;32m~/opt/anaconda3/envs/tensorflow/lib/python3.11/site-packages/urllib3/connectionpool.py:462\u001b[0m, in \u001b[0;36mHTTPConnectionPool._make_request\u001b[0;34m(self, conn, method, url, timeout, chunked, **httplib_request_kw)\u001b[0m\n\u001b[1;32m    459\u001b[0m \u001b[38;5;28;01mexcept\u001b[39;00m \u001b[38;5;167;01mTypeError\u001b[39;00m:\n\u001b[1;32m    460\u001b[0m     \u001b[38;5;66;03m# Python 3\u001b[39;00m\n\u001b[1;32m    461\u001b[0m     \u001b[38;5;28;01mtry\u001b[39;00m:\n\u001b[0;32m--> 462\u001b[0m         httplib_response \u001b[38;5;241m=\u001b[39m conn\u001b[38;5;241m.\u001b[39mgetresponse()\n\u001b[1;32m    463\u001b[0m     \u001b[38;5;28;01mexcept\u001b[39;00m \u001b[38;5;167;01mBaseException\u001b[39;00m \u001b[38;5;28;01mas\u001b[39;00m e:\n\u001b[1;32m    464\u001b[0m         \u001b[38;5;66;03m# Remove the TypeError from the exception chain in\u001b[39;00m\n\u001b[1;32m    465\u001b[0m         \u001b[38;5;66;03m# Python 3 (including for exceptions like SystemExit).\u001b[39;00m\n\u001b[1;32m    466\u001b[0m         \u001b[38;5;66;03m# Otherwise it looks like a bug in the code.\u001b[39;00m\n\u001b[1;32m    467\u001b[0m         six\u001b[38;5;241m.\u001b[39mraise_from(e, \u001b[38;5;28;01mNone\u001b[39;00m)\n",
      "File \u001b[0;32m~/opt/anaconda3/envs/tensorflow/lib/python3.11/http/client.py:1378\u001b[0m, in \u001b[0;36mHTTPConnection.getresponse\u001b[0;34m(self)\u001b[0m\n\u001b[1;32m   1376\u001b[0m \u001b[38;5;28;01mtry\u001b[39;00m:\n\u001b[1;32m   1377\u001b[0m     \u001b[38;5;28;01mtry\u001b[39;00m:\n\u001b[0;32m-> 1378\u001b[0m         response\u001b[38;5;241m.\u001b[39mbegin()\n\u001b[1;32m   1379\u001b[0m     \u001b[38;5;28;01mexcept\u001b[39;00m \u001b[38;5;167;01mConnectionError\u001b[39;00m:\n\u001b[1;32m   1380\u001b[0m         \u001b[38;5;28mself\u001b[39m\u001b[38;5;241m.\u001b[39mclose()\n",
      "File \u001b[0;32m~/opt/anaconda3/envs/tensorflow/lib/python3.11/http/client.py:318\u001b[0m, in \u001b[0;36mHTTPResponse.begin\u001b[0;34m(self)\u001b[0m\n\u001b[1;32m    316\u001b[0m \u001b[38;5;66;03m# read until we get a non-100 response\u001b[39;00m\n\u001b[1;32m    317\u001b[0m \u001b[38;5;28;01mwhile\u001b[39;00m \u001b[38;5;28;01mTrue\u001b[39;00m:\n\u001b[0;32m--> 318\u001b[0m     version, status, reason \u001b[38;5;241m=\u001b[39m \u001b[38;5;28mself\u001b[39m\u001b[38;5;241m.\u001b[39m_read_status()\n\u001b[1;32m    319\u001b[0m     \u001b[38;5;28;01mif\u001b[39;00m status \u001b[38;5;241m!=\u001b[39m CONTINUE:\n\u001b[1;32m    320\u001b[0m         \u001b[38;5;28;01mbreak\u001b[39;00m\n",
      "File \u001b[0;32m~/opt/anaconda3/envs/tensorflow/lib/python3.11/http/client.py:279\u001b[0m, in \u001b[0;36mHTTPResponse._read_status\u001b[0;34m(self)\u001b[0m\n\u001b[1;32m    278\u001b[0m \u001b[38;5;28;01mdef\u001b[39;00m \u001b[38;5;21m_read_status\u001b[39m(\u001b[38;5;28mself\u001b[39m):\n\u001b[0;32m--> 279\u001b[0m     line \u001b[38;5;241m=\u001b[39m \u001b[38;5;28mstr\u001b[39m(\u001b[38;5;28mself\u001b[39m\u001b[38;5;241m.\u001b[39mfp\u001b[38;5;241m.\u001b[39mreadline(_MAXLINE \u001b[38;5;241m+\u001b[39m \u001b[38;5;241m1\u001b[39m), \u001b[38;5;124m\"\u001b[39m\u001b[38;5;124miso-8859-1\u001b[39m\u001b[38;5;124m\"\u001b[39m)\n\u001b[1;32m    280\u001b[0m     \u001b[38;5;28;01mif\u001b[39;00m \u001b[38;5;28mlen\u001b[39m(line) \u001b[38;5;241m>\u001b[39m _MAXLINE:\n\u001b[1;32m    281\u001b[0m         \u001b[38;5;28;01mraise\u001b[39;00m LineTooLong(\u001b[38;5;124m\"\u001b[39m\u001b[38;5;124mstatus line\u001b[39m\u001b[38;5;124m\"\u001b[39m)\n",
      "File \u001b[0;32m~/opt/anaconda3/envs/tensorflow/lib/python3.11/socket.py:706\u001b[0m, in \u001b[0;36mSocketIO.readinto\u001b[0;34m(self, b)\u001b[0m\n\u001b[1;32m    704\u001b[0m \u001b[38;5;28;01mwhile\u001b[39;00m \u001b[38;5;28;01mTrue\u001b[39;00m:\n\u001b[1;32m    705\u001b[0m     \u001b[38;5;28;01mtry\u001b[39;00m:\n\u001b[0;32m--> 706\u001b[0m         \u001b[38;5;28;01mreturn\u001b[39;00m \u001b[38;5;28mself\u001b[39m\u001b[38;5;241m.\u001b[39m_sock\u001b[38;5;241m.\u001b[39mrecv_into(b)\n\u001b[1;32m    707\u001b[0m     \u001b[38;5;28;01mexcept\u001b[39;00m timeout:\n\u001b[1;32m    708\u001b[0m         \u001b[38;5;28mself\u001b[39m\u001b[38;5;241m.\u001b[39m_timeout_occurred \u001b[38;5;241m=\u001b[39m \u001b[38;5;28;01mTrue\u001b[39;00m\n",
      "File \u001b[0;32m~/opt/anaconda3/envs/tensorflow/lib/python3.11/ssl.py:1311\u001b[0m, in \u001b[0;36mSSLSocket.recv_into\u001b[0;34m(self, buffer, nbytes, flags)\u001b[0m\n\u001b[1;32m   1307\u001b[0m     \u001b[38;5;28;01mif\u001b[39;00m flags \u001b[38;5;241m!=\u001b[39m \u001b[38;5;241m0\u001b[39m:\n\u001b[1;32m   1308\u001b[0m         \u001b[38;5;28;01mraise\u001b[39;00m \u001b[38;5;167;01mValueError\u001b[39;00m(\n\u001b[1;32m   1309\u001b[0m           \u001b[38;5;124m\"\u001b[39m\u001b[38;5;124mnon-zero flags not allowed in calls to recv_into() on \u001b[39m\u001b[38;5;132;01m%s\u001b[39;00m\u001b[38;5;124m\"\u001b[39m \u001b[38;5;241m%\u001b[39m\n\u001b[1;32m   1310\u001b[0m           \u001b[38;5;28mself\u001b[39m\u001b[38;5;241m.\u001b[39m\u001b[38;5;18m__class__\u001b[39m)\n\u001b[0;32m-> 1311\u001b[0m     \u001b[38;5;28;01mreturn\u001b[39;00m \u001b[38;5;28mself\u001b[39m\u001b[38;5;241m.\u001b[39mread(nbytes, buffer)\n\u001b[1;32m   1312\u001b[0m \u001b[38;5;28;01melse\u001b[39;00m:\n\u001b[1;32m   1313\u001b[0m     \u001b[38;5;28;01mreturn\u001b[39;00m \u001b[38;5;28msuper\u001b[39m()\u001b[38;5;241m.\u001b[39mrecv_into(buffer, nbytes, flags)\n",
      "File \u001b[0;32m~/opt/anaconda3/envs/tensorflow/lib/python3.11/ssl.py:1167\u001b[0m, in \u001b[0;36mSSLSocket.read\u001b[0;34m(self, len, buffer)\u001b[0m\n\u001b[1;32m   1165\u001b[0m \u001b[38;5;28;01mtry\u001b[39;00m:\n\u001b[1;32m   1166\u001b[0m     \u001b[38;5;28;01mif\u001b[39;00m buffer \u001b[38;5;129;01mis\u001b[39;00m \u001b[38;5;129;01mnot\u001b[39;00m \u001b[38;5;28;01mNone\u001b[39;00m:\n\u001b[0;32m-> 1167\u001b[0m         \u001b[38;5;28;01mreturn\u001b[39;00m \u001b[38;5;28mself\u001b[39m\u001b[38;5;241m.\u001b[39m_sslobj\u001b[38;5;241m.\u001b[39mread(\u001b[38;5;28mlen\u001b[39m, buffer)\n\u001b[1;32m   1168\u001b[0m     \u001b[38;5;28;01melse\u001b[39;00m:\n\u001b[1;32m   1169\u001b[0m         \u001b[38;5;28;01mreturn\u001b[39;00m \u001b[38;5;28mself\u001b[39m\u001b[38;5;241m.\u001b[39m_sslobj\u001b[38;5;241m.\u001b[39mread(\u001b[38;5;28mlen\u001b[39m)\n",
      "\u001b[0;31mKeyboardInterrupt\u001b[0m: "
     ]
    }
   ],
   "source": [
    "# Fetch athlete profile URLs\n",
    "athletes = fetch_profile_urls()\n",
    "\n",
    "# List to hold all extracted rows\n",
    "all_rows = []\n",
    "\n",
    "# Loop through each athlete and extract their 5000m results\n",
    "for athlete, data in athletes.items():\n",
    "    athlete_url = data['profile_url']\n",
    "    nationality = data['nationality']\n",
    "    #print(f\"Extracting 5000m results for {athlete}...\")\n",
    "    athlete_results = extract_5000m_results(athlete_url)\n",
    "    \n",
    "    # List to hold the extracted rows for this athlete\n",
    "    rows = []\n",
    "    # Extract data for this athlete\n",
    "    extract_5000m_data(athlete, nationality, athlete_results)\n",
    "    # Add rows for this athlete to the list of all rows\n",
    "    all_rows.extend(rows)\n",
    "\n",
    "# Define CSV file name\n",
    "csv_file_name = '5000m_results_with_urls.csv'\n",
    "\n",
    "# Write all rows to CSV\n",
    "with open(csv_file_name, 'w', newline='') as csv_file:\n",
    "    fieldnames = ['Athlete', 'Nationality', 'Score', 'Date', 'Venue', 'Place']  # Add 'Athlete' field\n",
    "    writer = csv.DictWriter(csv_file, fieldnames=fieldnames)\n",
    "    writer.writeheader()\n",
    "    for row in all_rows:\n",
    "        writer.writerow(row)\n",
    "\n",
    "print(f\"Data successfully written to {csv_file_name}\")"
   ]
  },
  {
   "cell_type": "markdown",
   "id": "6ac3365e-fad7-4445-be6c-498907798f18",
   "metadata": {},
   "source": [
    "## Preprocessing the data"
   ]
  },
  {
   "cell_type": "markdown",
   "id": "4eb7a220",
   "metadata": {},
   "source": [
    "### Put the right type of attribute to each variable "
   ]
  },
  {
   "cell_type": "code",
   "execution_count": 2,
   "id": "6269fc10-7e59-4695-a6fe-f7b2d20ae2ec",
   "metadata": {},
   "outputs": [
    {
     "name": "stdout",
     "output_type": "stream",
     "text": [
      "          Athlete Nationality   Score         Date  \\\n",
      "0  Yomif KEJELCHA         ETH  1288.0  30 MAY 2024   \n",
      "1  Yomif KEJELCHA         ETH  1288.0  30 MAY 2024   \n",
      "2  Yomif KEJELCHA         ETH  1119.0  25 JUL 2014   \n",
      "3  Yomif KEJELCHA         ETH  1232.0  11 SEP 2015   \n",
      "4  Yomif KEJELCHA         ETH  1198.0  14 MAY 2016   \n",
      "\n",
      "                               Venue  Place  \n",
      "0        Bislett Stadion, Oslo (NOR)    NaN  \n",
      "1        Bislett Stadion, Oslo (NOR)    NaN  \n",
      "2    Hayward Field, Eugene, OR (USA)    NaN  \n",
      "3  Boudewijnstadion, Bruxelles (BEL)    NaN  \n",
      "4   Shanghai Stadium, Shanghai (CHN)    NaN  \n",
      "<class 'pandas.core.frame.DataFrame'>\n",
      "RangeIndex: 3982 entries, 0 to 3981\n",
      "Data columns (total 6 columns):\n",
      " #   Column       Non-Null Count  Dtype  \n",
      "---  ------       --------------  -----  \n",
      " 0   Athlete      3982 non-null   object \n",
      " 1   Nationality  3982 non-null   object \n",
      " 2   Score        1645 non-null   float64\n",
      " 3   Date         2875 non-null   object \n",
      " 4   Venue        2875 non-null   object \n",
      " 5   Place        1468 non-null   float64\n",
      "dtypes: float64(2), object(4)\n",
      "memory usage: 186.8+ KB\n",
      "None\n"
     ]
    }
   ],
   "source": [
    "df_5000m = pd.read_csv(\"5000m_results_with_urls.csv\")\n",
    "print(df_5000m.head())\n",
    "print(df_5000m.info())"
   ]
  },
  {
   "cell_type": "code",
   "execution_count": 3,
   "id": "f3ab5952-61e7-4755-9b74-bc9e5078f66e",
   "metadata": {},
   "outputs": [
    {
     "name": "stdout",
     "output_type": "stream",
     "text": [
      "Number of null values per column:\n",
      "Athlete           0\n",
      "Nationality       0\n",
      "Score          2337\n",
      "Date           1107\n",
      "Venue          1107\n",
      "Place          2514\n",
      "dtype: int64\n"
     ]
    }
   ],
   "source": [
    "# Counting null values per column\n",
    "null_counts = df_5000m.isnull().sum()\n",
    "print(\"Number of null values per column:\")\n",
    "print(null_counts)"
   ]
  },
  {
   "cell_type": "code",
   "execution_count": 4,
   "id": "9756276d-71a7-44f2-9529-07c1d4b309dc",
   "metadata": {},
   "outputs": [],
   "source": [
    "# Removing rows with null 'Venue' & removing duplicates\n",
    "df_5000m_cleaned0 = df_5000m.dropna(subset=['Venue'])\n",
    "df_5000m_cleaned1 = df_5000m_cleaned0.drop_duplicates()\n",
    "df_5000m_cleaned2 = df_5000m_cleaned1.dropna(subset=['Place', 'Score'], how='all')"
   ]
  },
  {
   "cell_type": "code",
   "execution_count": 5,
   "id": "5abbf4bf-ccd1-4d33-8dec-527f368b6f75",
   "metadata": {},
   "outputs": [
    {
     "name": "stdout",
     "output_type": "stream",
     "text": [
      "Number of null values per column:\n",
      "Athlete          0\n",
      "Nationality      0\n",
      "Score          477\n",
      "Date             0\n",
      "Venue            0\n",
      "Place          796\n",
      "dtype: int64\n"
     ]
    }
   ],
   "source": [
    "null_counts = df_5000m_cleaned2.isnull().sum()\n",
    "print(\"Number of null values per column:\")\n",
    "print(null_counts)"
   ]
  },
  {
   "cell_type": "markdown",
   "id": "10e6338d-8631-46ce-8365-0bc34cab0722",
   "metadata": {},
   "source": [
    "Now that we have removed all of the rows with NA venue, and all of the rows where either `place`, `score` or both were empty, we need to assign the right type for each variable.\n",
    "\n",
    "The 5 differents variables are: \n",
    "- Athlete: object into character or factor\n",
    "- Score: float\n",
    "- Data: object to convert into datetime\n",
    "- Venue: object into character or factor or to dertermine\n",
    "- Place: float to convert into nummerical"
   ]
  },
  {
   "cell_type": "code",
   "execution_count": 6,
   "id": "001bfcd5-8e5b-40f0-ae3d-a686f3737dfb",
   "metadata": {},
   "outputs": [
    {
     "name": "stdout",
     "output_type": "stream",
     "text": [
      "          Athlete Nationality   Score                 Date  \\\n",
      "0  Yomif KEJELCHA         ETH  1288.0  2024-05-30 00:00:00   \n",
      "2  Yomif KEJELCHA         ETH  1119.0  2014-07-25 00:00:00   \n",
      "3  Yomif KEJELCHA         ETH  1232.0  2015-09-11 00:00:00   \n",
      "4  Yomif KEJELCHA         ETH  1198.0  2016-05-14 00:00:00   \n",
      "5  Yomif KEJELCHA         ETH  1205.0  2017-05-27 00:00:00   \n",
      "\n",
      "                               Venue  Place  \n",
      "0        Bislett Stadion, Oslo (NOR)    NaN  \n",
      "2    Hayward Field, Eugene, OR (USA)    NaN  \n",
      "3  Boudewijnstadion, Bruxelles (BEL)    NaN  \n",
      "4   Shanghai Stadium, Shanghai (CHN)    NaN  \n",
      "5    Hayward Field, Eugene, OR (USA)    NaN  \n",
      "<class 'pandas.core.frame.DataFrame'>\n",
      "Index: 1533 entries, 0 to 3967\n",
      "Data columns (total 6 columns):\n",
      " #   Column       Non-Null Count  Dtype  \n",
      "---  ------       --------------  -----  \n",
      " 0   Athlete      1533 non-null   object \n",
      " 1   Nationality  1533 non-null   object \n",
      " 2   Score        1056 non-null   float64\n",
      " 3   Date         1533 non-null   object \n",
      " 4   Venue        1533 non-null   object \n",
      " 5   Place        737 non-null    float64\n",
      "dtypes: float64(2), object(4)\n",
      "memory usage: 83.8+ KB\n",
      "None\n"
     ]
    }
   ],
   "source": [
    "df = df_5000m_cleaned2\n",
    "df.loc[:, 'Athlete'] = pd.Categorical(df['Athlete'])\n",
    "df.loc[:, 'Nationality'] = pd.Categorical(df['Nationality'])\n",
    "df.loc[:, 'Date'] = pd.to_datetime(df['Date'], format='%d %b %Y', errors='coerce')\n",
    "print(df.head())\n",
    "print(df.info())"
   ]
  },
  {
   "cell_type": "markdown",
   "id": "cfe34d5f-d159-4887-aa87-822dc5d5478f",
   "metadata": {},
   "source": [
    "### Data simulation"
   ]
  },
  {
   "cell_type": "code",
   "execution_count": 7,
   "id": "02ae0fd7",
   "metadata": {},
   "outputs": [],
   "source": [
    "# Define factors for distance from France, climate similarity, and cultural/travel ease for each country\n",
    "distance_factor = {\n",
    "    'ETH': 0.5, 'USA': 0.7, 'AUS': 0.9, 'NOR': 0.2, 'GER': 0.1, 'FRA': 0.0, \n",
    "    'KEN': 0.5, 'ESP': 0.1, 'GBR': 0.1, 'CAN': 0.6, 'UGA': 0.5, 'SUI': 0.1, \n",
    "    'BEL': 0.1, 'JPN': 0.8, 'NED': 0.1, 'IRL': 0.2, 'SWE': 0.2, 'BRN': 0.7, \n",
    "    'ITA': 0.1, 'RUS': 0.4, 'GUA': 0.8, 'BDI': 0.5, 'SRB': 0.3, 'RSA': 0.6, \n",
    "    'THA': 0.8, 'ERI': 0.5, 'AUT': 0.1, 'DJI': 0.6, 'IND': 0.7, 'URU': 0.8, 'MAR': 0.2\n",
    "}\n",
    "\n",
    "climate_factor = {\n",
    "    'ETH': 0.4, 'USA': 0.6, 'AUS': 0.6, 'NOR': 0.7, 'GER': 0.9, 'FRA': 1.0, \n",
    "    'KEN': 0.4, 'ESP': 0.8, 'GBR': 0.8, 'CAN': 0.6, 'UGA': 0.4, 'SUI': 0.9, \n",
    "    'BEL': 0.8, 'JPN': 0.6, 'NED': 0.8, 'IRL': 0.8, 'SWE': 0.7, 'BRN': 0.4, \n",
    "    'ITA': 0.9, 'RUS': 0.6, 'GUA': 0.3, 'BDI': 0.4, 'SRB': 0.7, 'RSA': 0.5, \n",
    "    'THA': 0.3, 'ERI': 0.4, 'AUT': 0.9, 'DJI': 0.4, 'IND': 0.4, 'URU': 0.4, 'MAR': 0.8\n",
    "}\n",
    "\n",
    "cultural_factor = {\n",
    "    'ETH': 0.4, 'USA': 0.7, 'AUS': 0.6, 'NOR': 0.8, 'GER': 0.9, 'FRA': 1.0, \n",
    "    'KEN': 0.4, 'ESP': 0.9, 'GBR': 0.9, 'CAN': 0.7, 'UGA': 0.4, 'SUI': 0.9, \n",
    "    'BEL': 0.9, 'JPN': 0.6, 'NED': 0.9, 'IRL': 0.8, 'SWE': 0.8, 'BRN': 0.4, \n",
    "    'ITA': 0.9, 'RUS': 0.6, 'GUA': 0.3, 'BDI': 0.4, 'SRB': 0.7, 'RSA': 0.4, \n",
    "    'THA': 0.3, 'ERI': 0.4, 'AUT': 0.9, 'DJI': 0.3, 'IND': 0.3, 'URU': 0.3, 'MAR': 0.8\n",
    "}\n",
    "\n",
    "# Define initial count of athletes per nationality\n",
    "initial_nationalities = {\n",
    "    'ETH': 0, 'USA': 0, 'AUS': 0, 'NOR': 0, 'GER': 0, 'FRA': 0, \n",
    "    'KEN': 0, 'ESP': 0, 'GBR': 0, 'CAN': 0, 'UGA': 0, 'SUI': 0, \n",
    "    'BEL': 0, 'JPN': 0, 'NED': 0, 'IRL': 0, 'SWE': 0, 'BRN': 0, \n",
    "    'ITA': 0, 'RUS': 0, 'GUA': 0, 'BDI': 0, 'SRB': 0, 'RSA': 0, \n",
    "    'THA': 0, 'ERI': 0, 'AUT': 0, 'DJI': 0, 'IND': 0, 'URU': 0, 'MAR': 0\n",
    "}"
   ]
  },
  {
   "cell_type": "code",
   "execution_count": 8,
   "id": "b8138789-db9d-437c-b098-7da0138ce5de",
   "metadata": {},
   "outputs": [],
   "source": [
    "# Define the number of simulations\n",
    "num_simulations = 10000\n",
    "\n",
    "# Count the number of athletes per nationality\n",
    "nationalities = df['Nationality'].value_counts().to_dict()\n",
    "\n",
    "# Function to calculate mean and standard deviation based on factors\n",
    "def calculate_params(distance, climate, cultural):\n",
    "    base_mean = 0.10\n",
    "    base_std = 0.05\n",
    "    mean_cheering_effect = base_mean + 0.05 * (1 - distance) + 0.05 * cultural\n",
    "    std_cheering_effect = base_std - 0.01 * cultural\n",
    "    \n",
    "    mean_environmental_adaptation = base_mean + 0.05 * climate\n",
    "    std_environmental_adaptation = base_std - 0.01 * climate\n",
    "    \n",
    "    return mean_cheering_effect, std_cheering_effect, mean_environmental_adaptation, std_environmental_adaptation\n",
    "\n",
    "# Create the params dictionary\n",
    "params = {}\n",
    "for nationality in nationalities.keys():\n",
    "    mean_cheering_effect, std_cheering_effect, mean_environmental_adaptation, std_environmental_adaptation = calculate_params(\n",
    "        distance_factor.get(nationality, 0), climate_factor.get(nationality, 0), cultural_factor.get(nationality, 0)\n",
    "    )\n",
    "    params[nationality] = {\n",
    "        'mean_cheering_effect': mean_cheering_effect, 'std_cheering_effect': std_cheering_effect,\n",
    "        'mean_environmental_adaptation': mean_environmental_adaptation, 'std_environmental_adaptation': std_environmental_adaptation\n",
    "    }\n",
    "\n",
    "    \n",
    "# Function to simulate performance for a given nationality\n",
    "def simulate_performance(nationality, num_athletes):\n",
    "    mean_cheering_effect = params[nationality]['mean_cheering_effect']\n",
    "    std_cheering_effect = params[nationality]['std_cheering_effect']\n",
    "    mean_environmental_adaptation = params[nationality]['mean_environmental_adaptation']\n",
    "    std_environmental_adaptation = params[nationality]['std_environmental_adaptation']\n",
    "    \n",
    "    cheering_effect = np.random.normal(mean_cheering_effect, std_cheering_effect, num_athletes)\n",
    "    environmental_adaptation = np.random.normal(mean_environmental_adaptation, std_environmental_adaptation, num_athletes)\n",
    "    \n",
    "    return cheering_effect, environmental_adaptation\n",
    "\n",
    "# Initialize lists to store simulated results\n",
    "cheering_effects = []\n",
    "environmental_adaptations = []\n",
    "\n",
    "# Iterate through each unique nationality in the DataFrame\n",
    "for nationality in df['Nationality'].unique():\n",
    "    if nationality in nationalities:\n",
    "        num_athletes = nationalities[nationality]  # Number of athletes for this nationality\n",
    "        cheering_effect, environmental_adaptation = simulate_performance(nationality, num_athletes)\n",
    "        \n",
    "        # Extend lists with simulation results\n",
    "        cheering_effects.extend(cheering_effect)\n",
    "        environmental_adaptations.extend(environmental_adaptation)\n",
    "    else:\n",
    "        # Handle cases where nationality in df['Nationality'] is not found in nationalities\n",
    "        print(f\"Warning: No athlete count found for nationality '{nationality}'\")\n"
   ]
  },
  {
   "cell_type": "code",
   "execution_count": 11,
   "id": "eb8f0c05-0132-4c6b-a936-e58cc40f95c6",
   "metadata": {},
   "outputs": [
    {
     "data": {
      "text/html": [
       "<div>\n",
       "<style scoped>\n",
       "    .dataframe tbody tr th:only-of-type {\n",
       "        vertical-align: middle;\n",
       "    }\n",
       "\n",
       "    .dataframe tbody tr th {\n",
       "        vertical-align: top;\n",
       "    }\n",
       "\n",
       "    .dataframe thead th {\n",
       "        text-align: right;\n",
       "    }\n",
       "</style>\n",
       "<table border=\"1\" class=\"dataframe\">\n",
       "  <thead>\n",
       "    <tr style=\"text-align: right;\">\n",
       "      <th></th>\n",
       "      <th>Athlete</th>\n",
       "      <th>Nationality</th>\n",
       "      <th>Score</th>\n",
       "      <th>Date</th>\n",
       "      <th>Venue</th>\n",
       "      <th>Place</th>\n",
       "      <th>CrowdCheeringEffect</th>\n",
       "      <th>EnvironmentalAdaptation</th>\n",
       "    </tr>\n",
       "  </thead>\n",
       "  <tbody>\n",
       "    <tr>\n",
       "      <th>0</th>\n",
       "      <td>Yomif KEJELCHA</td>\n",
       "      <td>ETH</td>\n",
       "      <td>1288.0</td>\n",
       "      <td>2024-05-30 00:00:00</td>\n",
       "      <td>Bislett Stadion, Oslo (NOR)</td>\n",
       "      <td>NaN</td>\n",
       "      <td>0.117087</td>\n",
       "      <td>0.129918</td>\n",
       "    </tr>\n",
       "    <tr>\n",
       "      <th>2</th>\n",
       "      <td>Yomif KEJELCHA</td>\n",
       "      <td>ETH</td>\n",
       "      <td>1119.0</td>\n",
       "      <td>2014-07-25 00:00:00</td>\n",
       "      <td>Hayward Field, Eugene, OR (USA)</td>\n",
       "      <td>NaN</td>\n",
       "      <td>0.148995</td>\n",
       "      <td>0.137654</td>\n",
       "    </tr>\n",
       "    <tr>\n",
       "      <th>3</th>\n",
       "      <td>Yomif KEJELCHA</td>\n",
       "      <td>ETH</td>\n",
       "      <td>1232.0</td>\n",
       "      <td>2015-09-11 00:00:00</td>\n",
       "      <td>Boudewijnstadion, Bruxelles (BEL)</td>\n",
       "      <td>NaN</td>\n",
       "      <td>0.191238</td>\n",
       "      <td>0.095889</td>\n",
       "    </tr>\n",
       "    <tr>\n",
       "      <th>4</th>\n",
       "      <td>Yomif KEJELCHA</td>\n",
       "      <td>ETH</td>\n",
       "      <td>1198.0</td>\n",
       "      <td>2016-05-14 00:00:00</td>\n",
       "      <td>Shanghai Stadium, Shanghai (CHN)</td>\n",
       "      <td>NaN</td>\n",
       "      <td>0.189600</td>\n",
       "      <td>0.113813</td>\n",
       "    </tr>\n",
       "    <tr>\n",
       "      <th>5</th>\n",
       "      <td>Yomif KEJELCHA</td>\n",
       "      <td>ETH</td>\n",
       "      <td>1205.0</td>\n",
       "      <td>2017-05-27 00:00:00</td>\n",
       "      <td>Hayward Field, Eugene, OR (USA)</td>\n",
       "      <td>NaN</td>\n",
       "      <td>0.056305</td>\n",
       "      <td>0.130853</td>\n",
       "    </tr>\n",
       "  </tbody>\n",
       "</table>\n",
       "</div>"
      ],
      "text/plain": [
       "          Athlete Nationality   Score                 Date  \\\n",
       "0  Yomif KEJELCHA         ETH  1288.0  2024-05-30 00:00:00   \n",
       "2  Yomif KEJELCHA         ETH  1119.0  2014-07-25 00:00:00   \n",
       "3  Yomif KEJELCHA         ETH  1232.0  2015-09-11 00:00:00   \n",
       "4  Yomif KEJELCHA         ETH  1198.0  2016-05-14 00:00:00   \n",
       "5  Yomif KEJELCHA         ETH  1205.0  2017-05-27 00:00:00   \n",
       "\n",
       "                               Venue  Place  CrowdCheeringEffect  \\\n",
       "0        Bislett Stadion, Oslo (NOR)    NaN             0.117087   \n",
       "2    Hayward Field, Eugene, OR (USA)    NaN             0.148995   \n",
       "3  Boudewijnstadion, Bruxelles (BEL)    NaN             0.191238   \n",
       "4   Shanghai Stadium, Shanghai (CHN)    NaN             0.189600   \n",
       "5    Hayward Field, Eugene, OR (USA)    NaN             0.056305   \n",
       "\n",
       "   EnvironmentalAdaptation  \n",
       "0                 0.129918  \n",
       "2                 0.137654  \n",
       "3                 0.095889  \n",
       "4                 0.113813  \n",
       "5                 0.130853  "
      ]
     },
     "execution_count": 11,
     "metadata": {},
     "output_type": "execute_result"
    }
   ],
   "source": [
    "# Assign simulated results to DataFrame using .loc to avoid SettingWithCopyWarning\n",
    "df.loc[:, 'CrowdCheeringEffect'] = cheering_effects[:len(df)]  # Ensure lengths match\n",
    "df.loc[:, 'EnvironmentalAdaptation'] = environmental_adaptations[:len(df)]  # Ensure lengths match\n",
    "df.head()"
   ]
  },
  {
   "cell_type": "code",
   "execution_count": 12,
   "id": "be42522c-9614-45a9-8a8d-20e46c63246b",
   "metadata": {},
   "outputs": [
    {
     "data": {
      "image/png": "[encoded data removed]",
      "text/plain": [
       "<Figure size 1800x600 with 2 Axes>"
      ]
     },
     "metadata": {},
     "output_type": "display_data"
    }
   ],
   "source": [
    "# Set up subplots with 1 row and 3 columns\n",
    "fig, axs = plt.subplots(1, 2, figsize=(18, 6))\n",
    "\n",
    "# Plot 1: Crowd Cheering Effect by Nationality\n",
    "axs[0].bar(df['Nationality'], df['CrowdCheeringEffect'], color='blue')\n",
    "axs[0].set_xlabel('Nationality')\n",
    "axs[0].set_ylabel('Crowd Cheering Effect')\n",
    "axs[0].set_title('Crowd Cheering Effect by Nationality')\n",
    "axs[0].tick_params(axis='x', rotation=45)\n",
    "\n",
    "# Plot 2: Environmental Adaptation by Nationality\n",
    "axs[1].bar(df['Nationality'], df['EnvironmentalAdaptation'], color='green')\n",
    "axs[1].set_xlabel('Nationality')\n",
    "axs[1].set_ylabel('Environmental Adaptation')\n",
    "axs[1].set_title('Environmental Adaptation by Nationality')\n",
    "axs[1].tick_params(axis='x', rotation=45)\n",
    "# Adjust layout\n",
    "plt.tight_layout()\n",
    "plt.show()"
   ]
  },
  {
   "cell_type": "markdown",
   "id": "bf37c8c6",
   "metadata": {},
   "source": [
    "### Normalise / Standardise nummerical features"
   ]
  },
  {
   "cell_type": "code",
   "execution_count": null,
   "id": "bc8b03a2",
   "metadata": {},
   "outputs": [],
   "source": []
  },
  {
   "cell_type": "markdown",
   "id": "5c415cbc",
   "metadata": {},
   "source": []
  }
 ],
 "metadata": {
  "kernelspec": {
   "display_name": "Python 3 (ipykernel)",
   "language": "python",
   "name": "python3"
  },
  "language_info": {
   "codemirror_mode": {
    "name": "ipython",
    "version": 3
   },
   "file_extension": ".py",
   "mimetype": "text/x-python",
   "name": "python",
   "nbconvert_exporter": "python",
   "pygments_lexer": "ipython3",
   "version": "3.11.5"
  }
 },
 "nbformat": 4,
 "nbformat_minor": 5
}
